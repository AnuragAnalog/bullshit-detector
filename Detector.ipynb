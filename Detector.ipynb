{
  "nbformat": 4,
  "nbformat_minor": 0,
  "metadata": {
    "colab": {
      "name": "Detector.ipynb",
      "provenance": [],
      "collapsed_sections": []
    },
    "kernelspec": {
      "name": "python3",
      "display_name": "Python 3"
    },
    "language_info": {
      "name": "python"
    }
  },
  "cells": [
    {
      "cell_type": "markdown",
      "metadata": {
        "id": "CgVuuuj1ritJ"
      },
      "source": [
        "# Fake News Detection"
      ]
    },
    {
      "cell_type": "code",
      "metadata": {
        "colab": {
          "base_uri": "https://localhost:8080/"
        },
        "id": "29gEKtWRr7Ar",
        "outputId": "6e741df8-fa37-4967-ad40-b1b58c728eb7"
      },
      "source": [
        "# Download the dataset\n",
        "\n",
        "!wget -O \"liar.zip\" \"https://www.cs.ucsb.edu/~william/data/liar_dataset.zip\""
      ],
      "execution_count": 1,
      "outputs": [
        {
          "output_type": "stream",
          "text": [
            "--2021-05-07 05:49:35--  https://www.cs.ucsb.edu/~william/data/liar_dataset.zip\n",
            "Resolving www.cs.ucsb.edu (www.cs.ucsb.edu)... 23.185.0.3, 2620:12a:8001::3, 2620:12a:8000::3\n",
            "Connecting to www.cs.ucsb.edu (www.cs.ucsb.edu)|23.185.0.3|:443... connected.\n",
            "HTTP request sent, awaiting response... 301 Moved Permanently\n",
            "Location: https://sites.cs.ucsb.edu/~william/data/liar_dataset.zip [following]\n",
            "--2021-05-07 05:49:35--  https://sites.cs.ucsb.edu/~william/data/liar_dataset.zip\n",
            "Resolving sites.cs.ucsb.edu (sites.cs.ucsb.edu)... 128.111.27.164\n",
            "Connecting to sites.cs.ucsb.edu (sites.cs.ucsb.edu)|128.111.27.164|:443... connected.\n",
            "HTTP request sent, awaiting response... 200 OK\n",
            "Length: 1013571 (990K) [application/zip]\n",
            "Saving to: ‘liar.zip’\n",
            "\n",
            "liar.zip            100%[===================>] 989.82K  3.09MB/s    in 0.3s    \n",
            "\n",
            "2021-05-07 05:49:36 (3.09 MB/s) - ‘liar.zip’ saved [1013571/1013571]\n",
            "\n"
          ],
          "name": "stdout"
        }
      ]
    },
    {
      "cell_type": "code",
      "metadata": {
        "colab": {
          "base_uri": "https://localhost:8080/"
        },
        "id": "bgVAFmpNg1QQ",
        "outputId": "64f33f48-25b4-4ef6-f133-4d378f086195"
      },
      "source": [
        "# Module downloads\n",
        "\n",
        "!pip install optuna"
      ],
      "execution_count": 2,
      "outputs": [
        {
          "output_type": "stream",
          "text": [
            "Collecting optuna\n",
            "\u001b[?25l  Downloading https://files.pythonhosted.org/packages/2b/21/d13081805e1e1afc71f5bb743ece324c8bd576237c51b899ecb38a717502/optuna-2.7.0-py3-none-any.whl (293kB)\n",
            "\r\u001b[K     |█▏                              | 10kB 15.9MB/s eta 0:00:01\r\u001b[K     |██▎                             | 20kB 14.7MB/s eta 0:00:01\r\u001b[K     |███▍                            | 30kB 10.4MB/s eta 0:00:01\r\u001b[K     |████▌                           | 40kB 9.0MB/s eta 0:00:01\r\u001b[K     |█████▋                          | 51kB 5.5MB/s eta 0:00:01\r\u001b[K     |██████▊                         | 61kB 5.8MB/s eta 0:00:01\r\u001b[K     |███████▉                        | 71kB 6.3MB/s eta 0:00:01\r\u001b[K     |█████████                       | 81kB 6.8MB/s eta 0:00:01\r\u001b[K     |██████████                      | 92kB 6.3MB/s eta 0:00:01\r\u001b[K     |███████████▏                    | 102kB 5.3MB/s eta 0:00:01\r\u001b[K     |████████████▎                   | 112kB 5.3MB/s eta 0:00:01\r\u001b[K     |█████████████▍                  | 122kB 5.3MB/s eta 0:00:01\r\u001b[K     |██████████████▌                 | 133kB 5.3MB/s eta 0:00:01\r\u001b[K     |███████████████▋                | 143kB 5.3MB/s eta 0:00:01\r\u001b[K     |████████████████▊               | 153kB 5.3MB/s eta 0:00:01\r\u001b[K     |█████████████████▉              | 163kB 5.3MB/s eta 0:00:01\r\u001b[K     |███████████████████             | 174kB 5.3MB/s eta 0:00:01\r\u001b[K     |████████████████████            | 184kB 5.3MB/s eta 0:00:01\r\u001b[K     |█████████████████████▏          | 194kB 5.3MB/s eta 0:00:01\r\u001b[K     |██████████████████████▎         | 204kB 5.3MB/s eta 0:00:01\r\u001b[K     |███████████████████████▍        | 215kB 5.3MB/s eta 0:00:01\r\u001b[K     |████████████████████████▋       | 225kB 5.3MB/s eta 0:00:01\r\u001b[K     |█████████████████████████▊      | 235kB 5.3MB/s eta 0:00:01\r\u001b[K     |██████████████████████████▉     | 245kB 5.3MB/s eta 0:00:01\r\u001b[K     |████████████████████████████    | 256kB 5.3MB/s eta 0:00:01\r\u001b[K     |█████████████████████████████   | 266kB 5.3MB/s eta 0:00:01\r\u001b[K     |██████████████████████████████▏ | 276kB 5.3MB/s eta 0:00:01\r\u001b[K     |███████████████████████████████▎| 286kB 5.3MB/s eta 0:00:01\r\u001b[K     |████████████████████████████████| 296kB 5.3MB/s \n",
            "\u001b[?25hRequirement already satisfied: packaging>=20.0 in /usr/local/lib/python3.7/dist-packages (from optuna) (20.9)\n",
            "Collecting cmaes>=0.8.2\n",
            "  Downloading https://files.pythonhosted.org/packages/01/1f/43b01223a0366171f474320c6e966c39a11587287f098a5f09809b45e05f/cmaes-0.8.2-py3-none-any.whl\n",
            "Requirement already satisfied: scipy!=1.4.0 in /usr/local/lib/python3.7/dist-packages (from optuna) (1.4.1)\n",
            "Requirement already satisfied: tqdm in /usr/local/lib/python3.7/dist-packages (from optuna) (4.41.1)\n",
            "Collecting alembic\n",
            "\u001b[?25l  Downloading https://files.pythonhosted.org/packages/ab/ff/375a0a81965a7ad4e23d1786de218e9bae050c4d3927cc9b2783aa045401/alembic-1.6.2.tar.gz (1.2MB)\n",
            "\u001b[K     |████████████████████████████████| 1.2MB 9.7MB/s \n",
            "\u001b[?25hCollecting colorlog\n",
            "  Downloading https://files.pythonhosted.org/packages/32/e6/e9ddc6fa1104fda718338b341e4b3dc31cd8039ab29e52fc73b508515361/colorlog-5.0.1-py2.py3-none-any.whl\n",
            "Requirement already satisfied: numpy in /usr/local/lib/python3.7/dist-packages (from optuna) (1.19.5)\n",
            "Collecting cliff\n",
            "\u001b[?25l  Downloading https://files.pythonhosted.org/packages/a2/d6/7d9acb68a77acd140be7fececb7f2701b2a29d2da9c54184cb8f93509590/cliff-3.7.0-py3-none-any.whl (80kB)\n",
            "\u001b[K     |████████████████████████████████| 81kB 7.3MB/s \n",
            "\u001b[?25hRequirement already satisfied: sqlalchemy>=1.1.0 in /usr/local/lib/python3.7/dist-packages (from optuna) (1.4.7)\n",
            "Requirement already satisfied: pyparsing>=2.0.2 in /usr/local/lib/python3.7/dist-packages (from packaging>=20.0->optuna) (2.4.7)\n",
            "Collecting Mako\n",
            "\u001b[?25l  Downloading https://files.pythonhosted.org/packages/f3/54/dbc07fbb20865d3b78fdb7cf7fa713e2cba4f87f71100074ef2dc9f9d1f7/Mako-1.1.4-py2.py3-none-any.whl (75kB)\n",
            "\u001b[K     |████████████████████████████████| 81kB 7.1MB/s \n",
            "\u001b[?25hCollecting python-editor>=0.3\n",
            "  Downloading https://files.pythonhosted.org/packages/c6/d3/201fc3abe391bbae6606e6f1d598c15d367033332bd54352b12f35513717/python_editor-1.0.4-py3-none-any.whl\n",
            "Requirement already satisfied: python-dateutil in /usr/local/lib/python3.7/dist-packages (from alembic->optuna) (2.8.1)\n",
            "Collecting stevedore>=2.0.1\n",
            "\u001b[?25l  Downloading https://files.pythonhosted.org/packages/d4/49/b602307aeac3df3384ff1fcd05da9c0376c622a6c48bb5325f28ab165b57/stevedore-3.3.0-py3-none-any.whl (49kB)\n",
            "\u001b[K     |████████████████████████████████| 51kB 5.6MB/s \n",
            "\u001b[?25hRequirement already satisfied: PrettyTable>=0.7.2 in /usr/local/lib/python3.7/dist-packages (from cliff->optuna) (2.1.0)\n",
            "Collecting pbr!=2.1.0,>=2.0.0\n",
            "\u001b[?25l  Downloading https://files.pythonhosted.org/packages/18/e0/1d4702dd81121d04a477c272d47ee5b6bc970d1a0990b11befa275c55cf2/pbr-5.6.0-py2.py3-none-any.whl (111kB)\n",
            "\u001b[K     |████████████████████████████████| 112kB 19.3MB/s \n",
            "\u001b[?25hCollecting cmd2>=1.0.0\n",
            "\u001b[?25l  Downloading https://files.pythonhosted.org/packages/15/8b/15061b32332bb35ea2a2f6263d0f616779d576e82739ec8e7fcf3c94abf5/cmd2-1.5.0-py3-none-any.whl (133kB)\n",
            "\u001b[K     |████████████████████████████████| 143kB 11.7MB/s \n",
            "\u001b[?25hRequirement already satisfied: PyYAML>=3.12 in /usr/local/lib/python3.7/dist-packages (from cliff->optuna) (3.13)\n",
            "Requirement already satisfied: importlib-metadata; python_version < \"3.8\" in /usr/local/lib/python3.7/dist-packages (from sqlalchemy>=1.1.0->optuna) (3.10.1)\n",
            "Requirement already satisfied: greenlet!=0.4.17; python_version >= \"3\" in /usr/local/lib/python3.7/dist-packages (from sqlalchemy>=1.1.0->optuna) (1.0.0)\n",
            "Requirement already satisfied: MarkupSafe>=0.9.2 in /usr/local/lib/python3.7/dist-packages (from Mako->alembic->optuna) (1.1.1)\n",
            "Requirement already satisfied: six>=1.5 in /usr/local/lib/python3.7/dist-packages (from python-dateutil->alembic->optuna) (1.15.0)\n",
            "Requirement already satisfied: wcwidth in /usr/local/lib/python3.7/dist-packages (from PrettyTable>=0.7.2->cliff->optuna) (0.2.5)\n",
            "Requirement already satisfied: attrs>=16.3.0 in /usr/local/lib/python3.7/dist-packages (from cmd2>=1.0.0->cliff->optuna) (20.3.0)\n",
            "Collecting colorama>=0.3.7\n",
            "  Downloading https://files.pythonhosted.org/packages/44/98/5b86278fbbf250d239ae0ecb724f8572af1c91f4a11edf4d36a206189440/colorama-0.4.4-py2.py3-none-any.whl\n",
            "Collecting pyperclip>=1.6\n",
            "  Downloading https://files.pythonhosted.org/packages/a7/2c/4c64579f847bd5d539803c8b909e54ba087a79d01bb3aba433a95879a6c5/pyperclip-1.8.2.tar.gz\n",
            "Requirement already satisfied: typing-extensions>=3.6.4; python_version < \"3.8\" in /usr/local/lib/python3.7/dist-packages (from importlib-metadata; python_version < \"3.8\"->sqlalchemy>=1.1.0->optuna) (3.7.4.3)\n",
            "Requirement already satisfied: zipp>=0.5 in /usr/local/lib/python3.7/dist-packages (from importlib-metadata; python_version < \"3.8\"->sqlalchemy>=1.1.0->optuna) (3.4.1)\n",
            "Building wheels for collected packages: alembic, pyperclip\n",
            "  Building wheel for alembic (setup.py) ... \u001b[?25l\u001b[?25hdone\n",
            "  Created wheel for alembic: filename=alembic-1.6.2-py2.py3-none-any.whl size=164219 sha256=053c42380391ae9a4f501734498850e0d880d4ee414779542bad7829daa6803e\n",
            "  Stored in directory: /root/.cache/pip/wheels/a5/63/44/db29401e49ef5331c163b591f12a465c40af864bfa888dabd2\n",
            "  Building wheel for pyperclip (setup.py) ... \u001b[?25l\u001b[?25hdone\n",
            "  Created wheel for pyperclip: filename=pyperclip-1.8.2-cp37-none-any.whl size=11107 sha256=2233b14db87460765ebf5420dc6dbd62ec73ec3291f387f14d09369f44002388\n",
            "  Stored in directory: /root/.cache/pip/wheels/25/af/b8/3407109267803f4015e1ee2ff23be0c8c19ce4008665931ee1\n",
            "Successfully built alembic pyperclip\n",
            "Installing collected packages: cmaes, Mako, python-editor, alembic, colorlog, pbr, stevedore, colorama, pyperclip, cmd2, cliff, optuna\n",
            "Successfully installed Mako-1.1.4 alembic-1.6.2 cliff-3.7.0 cmaes-0.8.2 cmd2-1.5.0 colorama-0.4.4 colorlog-5.0.1 optuna-2.7.0 pbr-5.6.0 pyperclip-1.8.2 python-editor-1.0.4 stevedore-3.3.0\n"
          ],
          "name": "stdout"
        }
      ]
    },
    {
      "cell_type": "code",
      "metadata": {
        "id": "VW67vyctpz1D"
      },
      "source": [
        "# Required modules\n",
        "\n",
        "import os\n",
        "import nltk\n",
        "import string\n",
        "import optuna\n",
        "import numpy as np\n",
        "import pandas as pd\n",
        "\n",
        "from zipfile import ZipFile\n",
        "from matplotlib import pyplot as plt\n",
        "\n",
        "from nltk.corpus import stopwords\n",
        "from nltk.stem import PorterStemmer\n",
        "from nltk.tokenize import word_tokenize\n",
        "\n",
        "from sklearn.svm import SVC\n",
        "from sklearn.pipeline import Pipeline\n",
        "from sklearn.metrics import accuracy_score\n",
        "from sklearn.naive_bayes import MultinomialNB\n",
        "from sklearn.linear_model import LogisticRegression\n",
        "from sklearn.model_selection import cross_val_score\n",
        "from sklearn.feature_extraction.text import CountVectorizer\n",
        "from sklearn.feature_extraction.text import TfidfVectorizer\n",
        "from sklearn.linear_model import PassiveAggressiveClassifier\n",
        "from sklearn.ensemble import RandomForestClassifier, VotingClassifier"
      ],
      "execution_count": 66,
      "outputs": []
    },
    {
      "cell_type": "code",
      "metadata": {
        "colab": {
          "base_uri": "https://localhost:8080/"
        },
        "id": "K8BqvkSYGvXB",
        "outputId": "7a1b7a1c-6bc0-4a7e-d683-6adfa729534a"
      },
      "source": [
        "# Package downloads\n",
        "\n",
        "nltk.download('punkt')\n",
        "nltk.download('stopwords')"
      ],
      "execution_count": 4,
      "outputs": [
        {
          "output_type": "stream",
          "text": [
            "[nltk_data] Downloading package punkt to /root/nltk_data...\n",
            "[nltk_data]   Unzipping tokenizers/punkt.zip.\n",
            "[nltk_data] Downloading package stopwords to /root/nltk_data...\n",
            "[nltk_data]   Unzipping corpora/stopwords.zip.\n"
          ],
          "name": "stdout"
        },
        {
          "output_type": "execute_result",
          "data": {
            "text/plain": [
              "True"
            ]
          },
          "metadata": {
            "tags": []
          },
          "execution_count": 4
        }
      ]
    },
    {
      "cell_type": "code",
      "metadata": {
        "id": "jJjHh40UspUc"
      },
      "source": [
        "# Initial Configration\n",
        "\n",
        "%matplotlib inline\n",
        "plt.rcParams['figure.figsize'] = (12, 7)"
      ],
      "execution_count": 5,
      "outputs": []
    },
    {
      "cell_type": "code",
      "metadata": {
        "id": "PH-4p__ssfkT"
      },
      "source": [
        "# Extracting the dataset\n",
        "\n",
        "with ZipFile('liar.zip', 'r') as zf:\n",
        "    zf.extractall('./')"
      ],
      "execution_count": 6,
      "outputs": []
    },
    {
      "cell_type": "code",
      "metadata": {
        "id": "LTyWL9-bxmM2"
      },
      "source": [
        "# Use this column names\n",
        "\n",
        "columns = ['ID', 'Label', 'Statement', 'Subject', 'Speaker', 'Speaker Job', 'State info', 'Party Affiliation', 'BT', 'F', 'HT', 'MT', 'Pants on fire', 'Context']"
      ],
      "execution_count": 7,
      "outputs": []
    },
    {
      "cell_type": "code",
      "metadata": {
        "colab": {
          "base_uri": "https://localhost:8080/",
          "height": 501
        },
        "id": "muswtLGRtu5k",
        "outputId": "c1a0712e-6616-41af-f6da-97fa8f7eddbf"
      },
      "source": [
        "# Loading the dataset\n",
        "\n",
        "train = pd.read_csv('train.tsv', sep='\\t', header=None, names=columns)\n",
        "train.head()"
      ],
      "execution_count": 8,
      "outputs": [
        {
          "output_type": "execute_result",
          "data": {
            "text/html": [
              "<div>\n",
              "<style scoped>\n",
              "    .dataframe tbody tr th:only-of-type {\n",
              "        vertical-align: middle;\n",
              "    }\n",
              "\n",
              "    .dataframe tbody tr th {\n",
              "        vertical-align: top;\n",
              "    }\n",
              "\n",
              "    .dataframe thead th {\n",
              "        text-align: right;\n",
              "    }\n",
              "</style>\n",
              "<table border=\"1\" class=\"dataframe\">\n",
              "  <thead>\n",
              "    <tr style=\"text-align: right;\">\n",
              "      <th></th>\n",
              "      <th>ID</th>\n",
              "      <th>Label</th>\n",
              "      <th>Statement</th>\n",
              "      <th>Subject</th>\n",
              "      <th>Speaker</th>\n",
              "      <th>Speaker Job</th>\n",
              "      <th>State info</th>\n",
              "      <th>Party Affiliation</th>\n",
              "      <th>BT</th>\n",
              "      <th>F</th>\n",
              "      <th>HT</th>\n",
              "      <th>MT</th>\n",
              "      <th>Pants on fire</th>\n",
              "      <th>Context</th>\n",
              "    </tr>\n",
              "  </thead>\n",
              "  <tbody>\n",
              "    <tr>\n",
              "      <th>0</th>\n",
              "      <td>2635.json</td>\n",
              "      <td>false</td>\n",
              "      <td>Says the Annies List political group supports ...</td>\n",
              "      <td>abortion</td>\n",
              "      <td>dwayne-bohac</td>\n",
              "      <td>State representative</td>\n",
              "      <td>Texas</td>\n",
              "      <td>republican</td>\n",
              "      <td>0.0</td>\n",
              "      <td>1.0</td>\n",
              "      <td>0.0</td>\n",
              "      <td>0.0</td>\n",
              "      <td>0.0</td>\n",
              "      <td>a mailer</td>\n",
              "    </tr>\n",
              "    <tr>\n",
              "      <th>1</th>\n",
              "      <td>10540.json</td>\n",
              "      <td>half-true</td>\n",
              "      <td>When did the decline of coal start? It started...</td>\n",
              "      <td>energy,history,job-accomplishments</td>\n",
              "      <td>scott-surovell</td>\n",
              "      <td>State delegate</td>\n",
              "      <td>Virginia</td>\n",
              "      <td>democrat</td>\n",
              "      <td>0.0</td>\n",
              "      <td>0.0</td>\n",
              "      <td>1.0</td>\n",
              "      <td>1.0</td>\n",
              "      <td>0.0</td>\n",
              "      <td>a floor speech.</td>\n",
              "    </tr>\n",
              "    <tr>\n",
              "      <th>2</th>\n",
              "      <td>324.json</td>\n",
              "      <td>mostly-true</td>\n",
              "      <td>Hillary Clinton agrees with John McCain \"by vo...</td>\n",
              "      <td>foreign-policy</td>\n",
              "      <td>barack-obama</td>\n",
              "      <td>President</td>\n",
              "      <td>Illinois</td>\n",
              "      <td>democrat</td>\n",
              "      <td>70.0</td>\n",
              "      <td>71.0</td>\n",
              "      <td>160.0</td>\n",
              "      <td>163.0</td>\n",
              "      <td>9.0</td>\n",
              "      <td>Denver</td>\n",
              "    </tr>\n",
              "    <tr>\n",
              "      <th>3</th>\n",
              "      <td>1123.json</td>\n",
              "      <td>false</td>\n",
              "      <td>Health care reform legislation is likely to ma...</td>\n",
              "      <td>health-care</td>\n",
              "      <td>blog-posting</td>\n",
              "      <td>NaN</td>\n",
              "      <td>NaN</td>\n",
              "      <td>none</td>\n",
              "      <td>7.0</td>\n",
              "      <td>19.0</td>\n",
              "      <td>3.0</td>\n",
              "      <td>5.0</td>\n",
              "      <td>44.0</td>\n",
              "      <td>a news release</td>\n",
              "    </tr>\n",
              "    <tr>\n",
              "      <th>4</th>\n",
              "      <td>9028.json</td>\n",
              "      <td>half-true</td>\n",
              "      <td>The economic turnaround started at the end of ...</td>\n",
              "      <td>economy,jobs</td>\n",
              "      <td>charlie-crist</td>\n",
              "      <td>NaN</td>\n",
              "      <td>Florida</td>\n",
              "      <td>democrat</td>\n",
              "      <td>15.0</td>\n",
              "      <td>9.0</td>\n",
              "      <td>20.0</td>\n",
              "      <td>19.0</td>\n",
              "      <td>2.0</td>\n",
              "      <td>an interview on CNN</td>\n",
              "    </tr>\n",
              "  </tbody>\n",
              "</table>\n",
              "</div>"
            ],
            "text/plain": [
              "           ID        Label  ... Pants on fire              Context\n",
              "0   2635.json        false  ...           0.0             a mailer\n",
              "1  10540.json    half-true  ...           0.0      a floor speech.\n",
              "2    324.json  mostly-true  ...           9.0               Denver\n",
              "3   1123.json        false  ...          44.0       a news release\n",
              "4   9028.json    half-true  ...           2.0  an interview on CNN\n",
              "\n",
              "[5 rows x 14 columns]"
            ]
          },
          "metadata": {
            "tags": []
          },
          "execution_count": 8
        }
      ]
    },
    {
      "cell_type": "code",
      "metadata": {
        "colab": {
          "base_uri": "https://localhost:8080/",
          "height": 665
        },
        "id": "mmq73Yr7xpfs",
        "outputId": "76d5b30c-8463-4299-d692-894108aa9451"
      },
      "source": [
        "# Inspecting the data\n",
        "\n",
        "train.info()\n",
        "train.describe()"
      ],
      "execution_count": 9,
      "outputs": [
        {
          "output_type": "stream",
          "text": [
            "<class 'pandas.core.frame.DataFrame'>\n",
            "RangeIndex: 10240 entries, 0 to 10239\n",
            "Data columns (total 14 columns):\n",
            " #   Column             Non-Null Count  Dtype  \n",
            "---  ------             --------------  -----  \n",
            " 0   ID                 10240 non-null  object \n",
            " 1   Label              10240 non-null  object \n",
            " 2   Statement          10240 non-null  object \n",
            " 3   Subject            10238 non-null  object \n",
            " 4   Speaker            10238 non-null  object \n",
            " 5   Speaker Job        7343 non-null   object \n",
            " 6   State info         8032 non-null   object \n",
            " 7   Party Affiliation  10238 non-null  object \n",
            " 8   BT                 10238 non-null  float64\n",
            " 9   F                  10238 non-null  float64\n",
            " 10  HT                 10238 non-null  float64\n",
            " 11  MT                 10238 non-null  float64\n",
            " 12  Pants on fire      10238 non-null  float64\n",
            " 13  Context            10138 non-null  object \n",
            "dtypes: float64(5), object(9)\n",
            "memory usage: 1.1+ MB\n"
          ],
          "name": "stdout"
        },
        {
          "output_type": "execute_result",
          "data": {
            "text/html": [
              "<div>\n",
              "<style scoped>\n",
              "    .dataframe tbody tr th:only-of-type {\n",
              "        vertical-align: middle;\n",
              "    }\n",
              "\n",
              "    .dataframe tbody tr th {\n",
              "        vertical-align: top;\n",
              "    }\n",
              "\n",
              "    .dataframe thead th {\n",
              "        text-align: right;\n",
              "    }\n",
              "</style>\n",
              "<table border=\"1\" class=\"dataframe\">\n",
              "  <thead>\n",
              "    <tr style=\"text-align: right;\">\n",
              "      <th></th>\n",
              "      <th>BT</th>\n",
              "      <th>F</th>\n",
              "      <th>HT</th>\n",
              "      <th>MT</th>\n",
              "      <th>Pants on fire</th>\n",
              "    </tr>\n",
              "  </thead>\n",
              "  <tbody>\n",
              "    <tr>\n",
              "      <th>count</th>\n",
              "      <td>10238.000000</td>\n",
              "      <td>10238.000000</td>\n",
              "      <td>10238.000000</td>\n",
              "      <td>10238.000000</td>\n",
              "      <td>10238.000000</td>\n",
              "    </tr>\n",
              "    <tr>\n",
              "      <th>mean</th>\n",
              "      <td>11.533210</td>\n",
              "      <td>13.286482</td>\n",
              "      <td>17.133718</td>\n",
              "      <td>16.434265</td>\n",
              "      <td>6.201407</td>\n",
              "    </tr>\n",
              "    <tr>\n",
              "      <th>std</th>\n",
              "      <td>18.973764</td>\n",
              "      <td>24.112936</td>\n",
              "      <td>35.846511</td>\n",
              "      <td>36.151688</td>\n",
              "      <td>16.128927</td>\n",
              "    </tr>\n",
              "    <tr>\n",
              "      <th>min</th>\n",
              "      <td>0.000000</td>\n",
              "      <td>0.000000</td>\n",
              "      <td>0.000000</td>\n",
              "      <td>0.000000</td>\n",
              "      <td>0.000000</td>\n",
              "    </tr>\n",
              "    <tr>\n",
              "      <th>25%</th>\n",
              "      <td>0.000000</td>\n",
              "      <td>0.000000</td>\n",
              "      <td>0.000000</td>\n",
              "      <td>0.000000</td>\n",
              "      <td>0.000000</td>\n",
              "    </tr>\n",
              "    <tr>\n",
              "      <th>50%</th>\n",
              "      <td>2.000000</td>\n",
              "      <td>2.000000</td>\n",
              "      <td>3.000000</td>\n",
              "      <td>3.000000</td>\n",
              "      <td>1.000000</td>\n",
              "    </tr>\n",
              "    <tr>\n",
              "      <th>75%</th>\n",
              "      <td>12.000000</td>\n",
              "      <td>12.000000</td>\n",
              "      <td>13.000000</td>\n",
              "      <td>11.000000</td>\n",
              "      <td>5.000000</td>\n",
              "    </tr>\n",
              "    <tr>\n",
              "      <th>max</th>\n",
              "      <td>70.000000</td>\n",
              "      <td>114.000000</td>\n",
              "      <td>160.000000</td>\n",
              "      <td>163.000000</td>\n",
              "      <td>105.000000</td>\n",
              "    </tr>\n",
              "  </tbody>\n",
              "</table>\n",
              "</div>"
            ],
            "text/plain": [
              "                 BT             F            HT            MT  Pants on fire\n",
              "count  10238.000000  10238.000000  10238.000000  10238.000000   10238.000000\n",
              "mean      11.533210     13.286482     17.133718     16.434265       6.201407\n",
              "std       18.973764     24.112936     35.846511     36.151688      16.128927\n",
              "min        0.000000      0.000000      0.000000      0.000000       0.000000\n",
              "25%        0.000000      0.000000      0.000000      0.000000       0.000000\n",
              "50%        2.000000      2.000000      3.000000      3.000000       1.000000\n",
              "75%       12.000000     12.000000     13.000000     11.000000       5.000000\n",
              "max       70.000000    114.000000    160.000000    163.000000     105.000000"
            ]
          },
          "metadata": {
            "tags": []
          },
          "execution_count": 9
        }
      ]
    },
    {
      "cell_type": "code",
      "metadata": {
        "id": "NQbAc_-9n2ME"
      },
      "source": [
        "# Loading the validation data\n",
        "\n",
        "valid = pd.read_csv('valid.tsv', sep='\\t', header=None, names=columns)"
      ],
      "execution_count": 10,
      "outputs": []
    },
    {
      "cell_type": "markdown",
      "metadata": {
        "id": "otz7vTeq5g7i"
      },
      "source": [
        "## Preprocessing"
      ]
    },
    {
      "cell_type": "code",
      "metadata": {
        "id": "hlGtM9M65jIS"
      },
      "source": [
        "# Applying some preprocessing\n",
        "\n",
        "train['Subject'] = train['Subject'].replace(np.nan, \"\")\n",
        "train['Speaker'] = train['Speaker'].replace(np.nan, \"\")\n",
        "train['Speaker Job'] = train['Speaker Job'].replace(np.nan, \"\")\n",
        "train['State info'] = train['State info'].replace(np.nan, \"\")\n",
        "train['Party Affiliation'] = train['Party Affiliation'].replace(np.nan, \"\")\n",
        "\n",
        "valid['Subject'] = valid['Subject'].replace(np.nan, \"\")\n",
        "valid['Speaker'] = valid['Speaker'].replace(np.nan, \"\")\n",
        "valid['Speaker Job'] = valid['Speaker Job'].replace(np.nan, \"\")\n",
        "valid['State info'] = valid['State info'].replace(np.nan, \"\")\n",
        "valid['Party Affiliation'] = valid['Party Affiliation'].replace(np.nan, \"\")"
      ],
      "execution_count": 11,
      "outputs": []
    },
    {
      "cell_type": "code",
      "metadata": {
        "id": "w8o1sH7DHgrD"
      },
      "source": [
        "# Important functions\n",
        "\n",
        "def remove_punctuation(text, puncts):\n",
        "    return \"\".join([c for c in text if c not in puncts])\n",
        "\n",
        "def remove_stopwords(text, stopwords):\n",
        "    tokens = word_tokenize(text)\n",
        "\n",
        "    return \" \".join([tok for tok in tokens if tok not in stopwords])"
      ],
      "execution_count": 12,
      "outputs": []
    },
    {
      "cell_type": "code",
      "metadata": {
        "id": "Zgll4rcLIXQu"
      },
      "source": [
        "stems = PorterStemmer()\n",
        "\n",
        "MAPPER = {'pants-fire': 'Fake', 'false': 'Fake', 'barely-true': 'Fake', 'half-true': 'Real', 'mostly-true': 'Real', 'true': 'Real'}\n",
        "english_sw = stopwords.words('english')\n",
        "punctuations = string.punctuation"
      ],
      "execution_count": 13,
      "outputs": []
    },
    {
      "cell_type": "code",
      "metadata": {
        "id": "mRj170AXeu0C"
      },
      "source": [
        "# Preprocessing features\n",
        "\n",
        "train['preprocessed'] = train['Statement'].apply(lambda x: remove_stopwords(x, english_sw))\n",
        "train['preprocessed'] = train['preprocessed'].apply(lambda x: remove_punctuation(x, punctuations))\n",
        "train['preprocessed'] = train['preprocessed'].apply(lambda x: stems.stem(x))\n",
        "\n",
        "valid['preprocessed'] = valid['Statement'].apply(lambda x: remove_stopwords(x, english_sw))\n",
        "valid['preprocessed'] = valid['preprocessed'].apply(lambda x: remove_punctuation(x, punctuations))\n",
        "valid['preprocessed'] = valid['preprocessed'].apply(lambda x: stems.stem(x))\n",
        "\n",
        "train['Label_mapped'] = train['Label'].apply(lambda x: MAPPER[x])\n",
        "valid['Label_mapped'] = valid['Label'].apply(lambda x: MAPPER[x])"
      ],
      "execution_count": 14,
      "outputs": []
    },
    {
      "cell_type": "code",
      "metadata": {
        "id": "GZw4gkm2DbYE"
      },
      "source": [
        "# Separating out features and labels\n",
        "\n",
        "X_train = train['preprocessed']\n",
        "y_train = train['Label_mapped']\n",
        "\n",
        "X_valid = valid['preprocessed']\n",
        "y_valid = valid['Label_mapped']"
      ],
      "execution_count": 15,
      "outputs": []
    },
    {
      "cell_type": "markdown",
      "metadata": {
        "id": "0e442KjvqLwQ"
      },
      "source": [
        "## Hyperparameter Tuning"
      ]
    },
    {
      "cell_type": "markdown",
      "metadata": {
        "id": "iDk0cujLsDsw"
      },
      "source": [
        "### Count Vectorizer"
      ]
    },
    {
      "cell_type": "code",
      "metadata": {
        "colab": {
          "base_uri": "https://localhost:8080/"
        },
        "id": "8Kkd3zPHDgaS",
        "outputId": "36d82433-9bf0-43ec-ac3f-89c6efb2b180"
      },
      "source": [
        "# Creating a count vectorizer\n",
        "\n",
        "count_vec = CountVectorizer()\n",
        "count_vec.fit(X_train)"
      ],
      "execution_count": 16,
      "outputs": [
        {
          "output_type": "execute_result",
          "data": {
            "text/plain": [
              "CountVectorizer(analyzer='word', binary=False, decode_error='strict',\n",
              "                dtype=<class 'numpy.int64'>, encoding='utf-8', input='content',\n",
              "                lowercase=True, max_df=1.0, max_features=None, min_df=1,\n",
              "                ngram_range=(1, 1), preprocessor=None, stop_words=None,\n",
              "                strip_accents=None, token_pattern='(?u)\\\\b\\\\w\\\\w+\\\\b',\n",
              "                tokenizer=None, vocabulary=None)"
            ]
          },
          "metadata": {
            "tags": []
          },
          "execution_count": 16
        }
      ]
    },
    {
      "cell_type": "code",
      "metadata": {
        "id": "vZ2S8cbmFl11"
      },
      "source": [
        "# Getting the train and valid vectors\n",
        "\n",
        "count_train = count_vec.transform(X_train)\n",
        "count_valid = count_vec.transform(X_valid)"
      ],
      "execution_count": 17,
      "outputs": []
    },
    {
      "cell_type": "markdown",
      "metadata": {
        "id": "QXoTsufigcFq"
      },
      "source": [
        "### Logistic Regression"
      ]
    },
    {
      "cell_type": "code",
      "metadata": {
        "id": "xOIHoR5Igz0Z"
      },
      "source": [
        "# Parameter grid\n",
        "\n",
        "def objective(trial):\n",
        "    penalty = trial.suggest_categorical('penalty', ['l1', 'l2', 'elasticnet', 'none'])\n",
        "    C = trial.suggest_loguniform('C', 10e-6, 1)\n",
        "\n",
        "    params = {'penalty': penalty, 'C': C}\n",
        "\n",
        "    clf = LogisticRegression(**params)\n",
        "\n",
        "    return cross_val_score(clf, count_train, y_train, cv=10, n_jobs=-1).mean()"
      ],
      "execution_count": 64,
      "outputs": []
    },
    {
      "cell_type": "code",
      "metadata": {
        "colab": {
          "base_uri": "https://localhost:8080/"
        },
        "id": "V2cM0fkWkTqj",
        "outputId": "342f251a-1e19-413d-cba0-ac1e17b322a7"
      },
      "source": [
        "# Logistic Regression fitting\n",
        "\n",
        "study = optuna.create_study(direction='maximize')\n",
        "study.optimize(objective, n_trials=10)"
      ],
      "execution_count": 65,
      "outputs": [
        {
          "output_type": "stream",
          "text": [
            "\u001b[32m[I 2021-05-07 08:35:13,711]\u001b[0m A new study created in memory with name: no-name-b7586bb1-b4ee-4aa5-8d36-3e7934db427f\u001b[0m\n",
            "\u001b[33m[W 2021-05-07 08:35:13,823]\u001b[0m Trial 0 failed, because the objective function returned nan.\u001b[0m\n",
            "\u001b[33m[W 2021-05-07 08:35:13,923]\u001b[0m Trial 1 failed, because the objective function returned nan.\u001b[0m\n",
            "\u001b[32m[I 2021-05-07 08:35:16,809]\u001b[0m Trial 2 finished with value: 0.55 and parameters: {'penalty': 'none', 'C': 0.00030054665176308193}. Best is trial 2 with value: 0.55.\u001b[0m\n",
            "\u001b[32m[I 2021-05-07 08:35:19,550]\u001b[0m Trial 3 finished with value: 0.55 and parameters: {'penalty': 'none', 'C': 0.0001681449258638127}. Best is trial 2 with value: 0.55.\u001b[0m\n",
            "\u001b[32m[I 2021-05-07 08:35:22,357]\u001b[0m Trial 4 finished with value: 0.55 and parameters: {'penalty': 'none', 'C': 0.003097480684858737}. Best is trial 2 with value: 0.55.\u001b[0m\n",
            "\u001b[32m[I 2021-05-07 08:35:22,835]\u001b[0m Trial 5 finished with value: 0.5810546875 and parameters: {'penalty': 'l2', 'C': 0.003944515869288046}. Best is trial 5 with value: 0.5810546875.\u001b[0m\n",
            "\u001b[33m[W 2021-05-07 08:35:22,933]\u001b[0m Trial 6 failed, because the objective function returned nan.\u001b[0m\n",
            "\u001b[33m[W 2021-05-07 08:35:23,028]\u001b[0m Trial 7 failed, because the objective function returned nan.\u001b[0m\n",
            "\u001b[32m[I 2021-05-07 08:35:23,442]\u001b[0m Trial 8 finished with value: 0.56171875 and parameters: {'penalty': 'l2', 'C': 0.0005830914421680008}. Best is trial 5 with value: 0.5810546875.\u001b[0m\n",
            "\u001b[33m[W 2021-05-07 08:35:23,531]\u001b[0m Trial 9 failed, because the objective function returned nan.\u001b[0m\n"
          ],
          "name": "stderr"
        }
      ]
    },
    {
      "cell_type": "code",
      "metadata": {
        "colab": {
          "base_uri": "https://localhost:8080/"
        },
        "id": "a5N0mzj5ki07",
        "outputId": "66899d9e-e446-4785-95c7-71852e16ed94"
      },
      "source": [
        "# Best trial\n",
        "\n",
        "trial = study.best_trial\n",
        "\n",
        "best_logreg = LogisticRegression(**trial.params)\n",
        "best_logreg.fit(count_train, y_train)\n",
        "(best_logreg.predict(count_train) == y_train).mean(), (best_logreg.predict(count_valid) == y_valid).mean()"
      ],
      "execution_count": 47,
      "outputs": [
        {
          "output_type": "stream",
          "text": [
            "/usr/local/lib/python3.7/dist-packages/sklearn/linear_model/_logistic.py:1505: UserWarning:\n",
            "\n",
            "Setting penalty='none' will ignore the C and l1_ratio parameters\n",
            "\n",
            "/usr/local/lib/python3.7/dist-packages/sklearn/linear_model/_logistic.py:940: ConvergenceWarning:\n",
            "\n",
            "lbfgs failed to converge (status=1):\n",
            "STOP: TOTAL NO. of ITERATIONS REACHED LIMIT.\n",
            "\n",
            "Increase the number of iterations (max_iter) or scale the data as shown in:\n",
            "    https://scikit-learn.org/stable/modules/preprocessing.html\n",
            "Please also refer to the documentation for alternative solver options:\n",
            "    https://scikit-learn.org/stable/modules/linear_model.html#logistic-regression\n",
            "\n"
          ],
          "name": "stderr"
        },
        {
          "output_type": "execute_result",
          "data": {
            "text/plain": [
              "(0.999609375, 0.5654205607476636)"
            ]
          },
          "metadata": {
            "tags": []
          },
          "execution_count": 47
        }
      ]
    },
    {
      "cell_type": "markdown",
      "metadata": {
        "id": "YpOpiZ2wFKqz"
      },
      "source": [
        "### Multinomail Naive Bayes"
      ]
    },
    {
      "cell_type": "code",
      "metadata": {
        "id": "keTwaV0ZFVBE"
      },
      "source": [
        "# Parametr grid\n",
        "\n",
        "def objective(trial):\n",
        "    alpha = trial.suggest_int('alpha', 1.0, 8.0)\n",
        "\n",
        "    clf = MultinomialNB(alpha=alpha)\n",
        "\n",
        "    return cross_val_score(clf, count_train, y_train, cv=10, n_jobs=-1).mean()"
      ],
      "execution_count": 18,
      "outputs": []
    },
    {
      "cell_type": "code",
      "metadata": {
        "colab": {
          "base_uri": "https://localhost:8080/"
        },
        "id": "qRHUWdd8Fza-",
        "outputId": "06ec36d3-78cb-4fd1-dbde-6dfd25517bf5"
      },
      "source": [
        "# Multinomail navie bayes fitting\n",
        "\n",
        "study = optuna.create_study(direction='maximize')\n",
        "study.optimize(objective, n_trials=100)"
      ],
      "execution_count": 19,
      "outputs": [
        {
          "output_type": "stream",
          "text": [
            "\u001b[32m[I 2021-05-07 05:51:42,821]\u001b[0m A new study created in memory with name: no-name-784f0fcf-87b0-4deb-8be0-608d6e07ce94\u001b[0m\n",
            "\u001b[32m[I 2021-05-07 05:51:44,366]\u001b[0m Trial 0 finished with value: 0.60791015625 and parameters: {'alpha': 6}. Best is trial 0 with value: 0.60791015625.\u001b[0m\n",
            "\u001b[32m[I 2021-05-07 05:51:44,653]\u001b[0m Trial 1 finished with value: 0.60654296875 and parameters: {'alpha': 8}. Best is trial 0 with value: 0.60791015625.\u001b[0m\n",
            "\u001b[32m[I 2021-05-07 05:51:44,954]\u001b[0m Trial 2 finished with value: 0.60791015625 and parameters: {'alpha': 6}. Best is trial 0 with value: 0.60791015625.\u001b[0m\n",
            "\u001b[32m[I 2021-05-07 05:51:45,230]\u001b[0m Trial 3 finished with value: 0.60615234375 and parameters: {'alpha': 1}. Best is trial 0 with value: 0.60791015625.\u001b[0m\n",
            "\u001b[32m[I 2021-05-07 05:51:45,518]\u001b[0m Trial 4 finished with value: 0.6095703125 and parameters: {'alpha': 2}. Best is trial 4 with value: 0.6095703125.\u001b[0m\n",
            "\u001b[32m[I 2021-05-07 05:51:45,815]\u001b[0m Trial 5 finished with value: 0.60927734375 and parameters: {'alpha': 5}. Best is trial 4 with value: 0.6095703125.\u001b[0m\n",
            "\u001b[32m[I 2021-05-07 05:51:46,094]\u001b[0m Trial 6 finished with value: 0.60927734375 and parameters: {'alpha': 5}. Best is trial 4 with value: 0.6095703125.\u001b[0m\n",
            "\u001b[32m[I 2021-05-07 05:51:46,380]\u001b[0m Trial 7 finished with value: 0.6095703125 and parameters: {'alpha': 2}. Best is trial 4 with value: 0.6095703125.\u001b[0m\n",
            "\u001b[32m[I 2021-05-07 05:51:46,669]\u001b[0m Trial 8 finished with value: 0.60654296875 and parameters: {'alpha': 8}. Best is trial 4 with value: 0.6095703125.\u001b[0m\n",
            "\u001b[32m[I 2021-05-07 05:51:46,965]\u001b[0m Trial 9 finished with value: 0.60615234375 and parameters: {'alpha': 1}. Best is trial 4 with value: 0.6095703125.\u001b[0m\n",
            "\u001b[32m[I 2021-05-07 05:51:47,252]\u001b[0m Trial 10 finished with value: 0.6125 and parameters: {'alpha': 3}. Best is trial 10 with value: 0.6125.\u001b[0m\n",
            "\u001b[32m[I 2021-05-07 05:51:47,535]\u001b[0m Trial 11 finished with value: 0.6125 and parameters: {'alpha': 3}. Best is trial 10 with value: 0.6125.\u001b[0m\n",
            "\u001b[32m[I 2021-05-07 05:51:47,826]\u001b[0m Trial 12 finished with value: 0.6125 and parameters: {'alpha': 3}. Best is trial 10 with value: 0.6125.\u001b[0m\n",
            "\u001b[32m[I 2021-05-07 05:51:48,109]\u001b[0m Trial 13 finished with value: 0.6125 and parameters: {'alpha': 3}. Best is trial 10 with value: 0.6125.\u001b[0m\n",
            "\u001b[32m[I 2021-05-07 05:51:48,395]\u001b[0m Trial 14 finished with value: 0.6125 and parameters: {'alpha': 3}. Best is trial 10 with value: 0.6125.\u001b[0m\n",
            "\u001b[32m[I 2021-05-07 05:51:48,675]\u001b[0m Trial 15 finished with value: 0.61220703125 and parameters: {'alpha': 4}. Best is trial 10 with value: 0.6125.\u001b[0m\n",
            "\u001b[32m[I 2021-05-07 05:51:48,974]\u001b[0m Trial 16 finished with value: 0.61220703125 and parameters: {'alpha': 4}. Best is trial 10 with value: 0.6125.\u001b[0m\n",
            "\u001b[32m[I 2021-05-07 05:51:49,257]\u001b[0m Trial 17 finished with value: 0.6095703125 and parameters: {'alpha': 2}. Best is trial 10 with value: 0.6125.\u001b[0m\n",
            "\u001b[32m[I 2021-05-07 05:51:49,536]\u001b[0m Trial 18 finished with value: 0.61220703125 and parameters: {'alpha': 4}. Best is trial 10 with value: 0.6125.\u001b[0m\n",
            "\u001b[32m[I 2021-05-07 05:51:49,817]\u001b[0m Trial 19 finished with value: 0.6125 and parameters: {'alpha': 3}. Best is trial 10 with value: 0.6125.\u001b[0m\n",
            "\u001b[32m[I 2021-05-07 05:51:50,102]\u001b[0m Trial 20 finished with value: 0.60615234375 and parameters: {'alpha': 1}. Best is trial 10 with value: 0.6125.\u001b[0m\n",
            "\u001b[32m[I 2021-05-07 05:51:50,386]\u001b[0m Trial 21 finished with value: 0.6125 and parameters: {'alpha': 3}. Best is trial 10 with value: 0.6125.\u001b[0m\n",
            "\u001b[32m[I 2021-05-07 05:51:50,680]\u001b[0m Trial 22 finished with value: 0.6095703125 and parameters: {'alpha': 2}. Best is trial 10 with value: 0.6125.\u001b[0m\n",
            "\u001b[32m[I 2021-05-07 05:51:50,966]\u001b[0m Trial 23 finished with value: 0.6125 and parameters: {'alpha': 3}. Best is trial 10 with value: 0.6125.\u001b[0m\n",
            "\u001b[32m[I 2021-05-07 05:51:51,244]\u001b[0m Trial 24 finished with value: 0.61220703125 and parameters: {'alpha': 4}. Best is trial 10 with value: 0.6125.\u001b[0m\n",
            "\u001b[32m[I 2021-05-07 05:51:51,527]\u001b[0m Trial 25 finished with value: 0.6095703125 and parameters: {'alpha': 2}. Best is trial 10 with value: 0.6125.\u001b[0m\n",
            "\u001b[32m[I 2021-05-07 05:51:51,805]\u001b[0m Trial 26 finished with value: 0.60927734375 and parameters: {'alpha': 5}. Best is trial 10 with value: 0.6125.\u001b[0m\n",
            "\u001b[32m[I 2021-05-07 05:51:52,093]\u001b[0m Trial 27 finished with value: 0.6125 and parameters: {'alpha': 3}. Best is trial 10 with value: 0.6125.\u001b[0m\n",
            "\u001b[32m[I 2021-05-07 05:51:52,376]\u001b[0m Trial 28 finished with value: 0.61220703125 and parameters: {'alpha': 4}. Best is trial 10 with value: 0.6125.\u001b[0m\n",
            "\u001b[32m[I 2021-05-07 05:51:52,656]\u001b[0m Trial 29 finished with value: 0.60791015625 and parameters: {'alpha': 6}. Best is trial 10 with value: 0.6125.\u001b[0m\n",
            "\u001b[32m[I 2021-05-07 05:51:52,949]\u001b[0m Trial 30 finished with value: 0.6064453125 and parameters: {'alpha': 7}. Best is trial 10 with value: 0.6125.\u001b[0m\n",
            "\u001b[32m[I 2021-05-07 05:51:53,228]\u001b[0m Trial 31 finished with value: 0.6125 and parameters: {'alpha': 3}. Best is trial 10 with value: 0.6125.\u001b[0m\n",
            "\u001b[32m[I 2021-05-07 05:51:53,511]\u001b[0m Trial 32 finished with value: 0.6125 and parameters: {'alpha': 3}. Best is trial 10 with value: 0.6125.\u001b[0m\n",
            "\u001b[32m[I 2021-05-07 05:51:53,793]\u001b[0m Trial 33 finished with value: 0.6095703125 and parameters: {'alpha': 2}. Best is trial 10 with value: 0.6125.\u001b[0m\n",
            "\u001b[32m[I 2021-05-07 05:51:54,082]\u001b[0m Trial 34 finished with value: 0.61220703125 and parameters: {'alpha': 4}. Best is trial 10 with value: 0.6125.\u001b[0m\n",
            "\u001b[32m[I 2021-05-07 05:51:54,362]\u001b[0m Trial 35 finished with value: 0.6125 and parameters: {'alpha': 3}. Best is trial 10 with value: 0.6125.\u001b[0m\n",
            "\u001b[32m[I 2021-05-07 05:51:54,653]\u001b[0m Trial 36 finished with value: 0.6095703125 and parameters: {'alpha': 2}. Best is trial 10 with value: 0.6125.\u001b[0m\n",
            "\u001b[32m[I 2021-05-07 05:51:54,941]\u001b[0m Trial 37 finished with value: 0.60615234375 and parameters: {'alpha': 1}. Best is trial 10 with value: 0.6125.\u001b[0m\n",
            "\u001b[32m[I 2021-05-07 05:51:55,216]\u001b[0m Trial 38 finished with value: 0.60927734375 and parameters: {'alpha': 5}. Best is trial 10 with value: 0.6125.\u001b[0m\n",
            "\u001b[32m[I 2021-05-07 05:51:55,494]\u001b[0m Trial 39 finished with value: 0.6095703125 and parameters: {'alpha': 2}. Best is trial 10 with value: 0.6125.\u001b[0m\n",
            "\u001b[32m[I 2021-05-07 05:51:55,780]\u001b[0m Trial 40 finished with value: 0.6125 and parameters: {'alpha': 3}. Best is trial 10 with value: 0.6125.\u001b[0m\n",
            "\u001b[32m[I 2021-05-07 05:51:56,073]\u001b[0m Trial 41 finished with value: 0.6125 and parameters: {'alpha': 3}. Best is trial 10 with value: 0.6125.\u001b[0m\n",
            "\u001b[32m[I 2021-05-07 05:51:56,352]\u001b[0m Trial 42 finished with value: 0.61220703125 and parameters: {'alpha': 4}. Best is trial 10 with value: 0.6125.\u001b[0m\n",
            "\u001b[32m[I 2021-05-07 05:51:56,634]\u001b[0m Trial 43 finished with value: 0.6125 and parameters: {'alpha': 3}. Best is trial 10 with value: 0.6125.\u001b[0m\n",
            "\u001b[32m[I 2021-05-07 05:51:56,924]\u001b[0m Trial 44 finished with value: 0.6095703125 and parameters: {'alpha': 2}. Best is trial 10 with value: 0.6125.\u001b[0m\n",
            "\u001b[32m[I 2021-05-07 05:51:57,214]\u001b[0m Trial 45 finished with value: 0.6125 and parameters: {'alpha': 3}. Best is trial 10 with value: 0.6125.\u001b[0m\n",
            "\u001b[32m[I 2021-05-07 05:51:57,502]\u001b[0m Trial 46 finished with value: 0.60927734375 and parameters: {'alpha': 5}. Best is trial 10 with value: 0.6125.\u001b[0m\n",
            "\u001b[32m[I 2021-05-07 05:51:57,793]\u001b[0m Trial 47 finished with value: 0.61220703125 and parameters: {'alpha': 4}. Best is trial 10 with value: 0.6125.\u001b[0m\n",
            "\u001b[32m[I 2021-05-07 05:51:58,085]\u001b[0m Trial 48 finished with value: 0.60615234375 and parameters: {'alpha': 1}. Best is trial 10 with value: 0.6125.\u001b[0m\n",
            "\u001b[32m[I 2021-05-07 05:51:58,368]\u001b[0m Trial 49 finished with value: 0.6125 and parameters: {'alpha': 3}. Best is trial 10 with value: 0.6125.\u001b[0m\n",
            "\u001b[32m[I 2021-05-07 05:51:58,653]\u001b[0m Trial 50 finished with value: 0.6095703125 and parameters: {'alpha': 2}. Best is trial 10 with value: 0.6125.\u001b[0m\n",
            "\u001b[32m[I 2021-05-07 05:51:58,949]\u001b[0m Trial 51 finished with value: 0.6125 and parameters: {'alpha': 3}. Best is trial 10 with value: 0.6125.\u001b[0m\n",
            "\u001b[32m[I 2021-05-07 05:51:59,242]\u001b[0m Trial 52 finished with value: 0.6125 and parameters: {'alpha': 3}. Best is trial 10 with value: 0.6125.\u001b[0m\n",
            "\u001b[32m[I 2021-05-07 05:51:59,523]\u001b[0m Trial 53 finished with value: 0.6125 and parameters: {'alpha': 3}. Best is trial 10 with value: 0.6125.\u001b[0m\n",
            "\u001b[32m[I 2021-05-07 05:51:59,812]\u001b[0m Trial 54 finished with value: 0.61220703125 and parameters: {'alpha': 4}. Best is trial 10 with value: 0.6125.\u001b[0m\n",
            "\u001b[32m[I 2021-05-07 05:52:00,111]\u001b[0m Trial 55 finished with value: 0.6125 and parameters: {'alpha': 3}. Best is trial 10 with value: 0.6125.\u001b[0m\n",
            "\u001b[32m[I 2021-05-07 05:52:00,391]\u001b[0m Trial 56 finished with value: 0.6125 and parameters: {'alpha': 3}. Best is trial 10 with value: 0.6125.\u001b[0m\n",
            "\u001b[32m[I 2021-05-07 05:52:00,690]\u001b[0m Trial 57 finished with value: 0.6095703125 and parameters: {'alpha': 2}. Best is trial 10 with value: 0.6125.\u001b[0m\n",
            "\u001b[32m[I 2021-05-07 05:52:00,990]\u001b[0m Trial 58 finished with value: 0.61220703125 and parameters: {'alpha': 4}. Best is trial 10 with value: 0.6125.\u001b[0m\n",
            "\u001b[32m[I 2021-05-07 05:52:01,283]\u001b[0m Trial 59 finished with value: 0.61220703125 and parameters: {'alpha': 4}. Best is trial 10 with value: 0.6125.\u001b[0m\n",
            "\u001b[32m[I 2021-05-07 05:52:01,572]\u001b[0m Trial 60 finished with value: 0.6095703125 and parameters: {'alpha': 2}. Best is trial 10 with value: 0.6125.\u001b[0m\n",
            "\u001b[32m[I 2021-05-07 05:52:01,856]\u001b[0m Trial 61 finished with value: 0.6125 and parameters: {'alpha': 3}. Best is trial 10 with value: 0.6125.\u001b[0m\n",
            "\u001b[32m[I 2021-05-07 05:52:02,156]\u001b[0m Trial 62 finished with value: 0.6125 and parameters: {'alpha': 3}. Best is trial 10 with value: 0.6125.\u001b[0m\n",
            "\u001b[32m[I 2021-05-07 05:52:02,438]\u001b[0m Trial 63 finished with value: 0.6125 and parameters: {'alpha': 3}. Best is trial 10 with value: 0.6125.\u001b[0m\n",
            "\u001b[32m[I 2021-05-07 05:52:02,725]\u001b[0m Trial 64 finished with value: 0.6125 and parameters: {'alpha': 3}. Best is trial 10 with value: 0.6125.\u001b[0m\n",
            "\u001b[32m[I 2021-05-07 05:52:03,016]\u001b[0m Trial 65 finished with value: 0.6125 and parameters: {'alpha': 3}. Best is trial 10 with value: 0.6125.\u001b[0m\n",
            "\u001b[32m[I 2021-05-07 05:52:03,301]\u001b[0m Trial 66 finished with value: 0.61220703125 and parameters: {'alpha': 4}. Best is trial 10 with value: 0.6125.\u001b[0m\n",
            "\u001b[32m[I 2021-05-07 05:52:03,585]\u001b[0m Trial 67 finished with value: 0.6095703125 and parameters: {'alpha': 2}. Best is trial 10 with value: 0.6125.\u001b[0m\n",
            "\u001b[32m[I 2021-05-07 05:52:03,874]\u001b[0m Trial 68 finished with value: 0.6125 and parameters: {'alpha': 3}. Best is trial 10 with value: 0.6125.\u001b[0m\n",
            "\u001b[32m[I 2021-05-07 05:52:04,167]\u001b[0m Trial 69 finished with value: 0.6125 and parameters: {'alpha': 3}. Best is trial 10 with value: 0.6125.\u001b[0m\n",
            "\u001b[32m[I 2021-05-07 05:52:04,451]\u001b[0m Trial 70 finished with value: 0.6095703125 and parameters: {'alpha': 2}. Best is trial 10 with value: 0.6125.\u001b[0m\n",
            "\u001b[32m[I 2021-05-07 05:52:04,743]\u001b[0m Trial 71 finished with value: 0.6125 and parameters: {'alpha': 3}. Best is trial 10 with value: 0.6125.\u001b[0m\n",
            "\u001b[32m[I 2021-05-07 05:52:05,039]\u001b[0m Trial 72 finished with value: 0.6125 and parameters: {'alpha': 3}. Best is trial 10 with value: 0.6125.\u001b[0m\n",
            "\u001b[32m[I 2021-05-07 05:52:05,335]\u001b[0m Trial 73 finished with value: 0.61220703125 and parameters: {'alpha': 4}. Best is trial 10 with value: 0.6125.\u001b[0m\n",
            "\u001b[32m[I 2021-05-07 05:52:05,621]\u001b[0m Trial 74 finished with value: 0.6125 and parameters: {'alpha': 3}. Best is trial 10 with value: 0.6125.\u001b[0m\n",
            "\u001b[32m[I 2021-05-07 05:52:05,902]\u001b[0m Trial 75 finished with value: 0.6125 and parameters: {'alpha': 3}. Best is trial 10 with value: 0.6125.\u001b[0m\n",
            "\u001b[32m[I 2021-05-07 05:52:06,198]\u001b[0m Trial 76 finished with value: 0.6095703125 and parameters: {'alpha': 2}. Best is trial 10 with value: 0.6125.\u001b[0m\n",
            "\u001b[32m[I 2021-05-07 05:52:06,484]\u001b[0m Trial 77 finished with value: 0.61220703125 and parameters: {'alpha': 4}. Best is trial 10 with value: 0.6125.\u001b[0m\n",
            "\u001b[32m[I 2021-05-07 05:52:06,778]\u001b[0m Trial 78 finished with value: 0.6125 and parameters: {'alpha': 3}. Best is trial 10 with value: 0.6125.\u001b[0m\n",
            "\u001b[32m[I 2021-05-07 05:52:07,067]\u001b[0m Trial 79 finished with value: 0.61220703125 and parameters: {'alpha': 4}. Best is trial 10 with value: 0.6125.\u001b[0m\n",
            "\u001b[32m[I 2021-05-07 05:52:07,362]\u001b[0m Trial 80 finished with value: 0.6095703125 and parameters: {'alpha': 2}. Best is trial 10 with value: 0.6125.\u001b[0m\n",
            "\u001b[32m[I 2021-05-07 05:52:07,648]\u001b[0m Trial 81 finished with value: 0.6125 and parameters: {'alpha': 3}. Best is trial 10 with value: 0.6125.\u001b[0m\n",
            "\u001b[32m[I 2021-05-07 05:52:07,932]\u001b[0m Trial 82 finished with value: 0.6125 and parameters: {'alpha': 3}. Best is trial 10 with value: 0.6125.\u001b[0m\n",
            "\u001b[32m[I 2021-05-07 05:52:08,226]\u001b[0m Trial 83 finished with value: 0.6125 and parameters: {'alpha': 3}. Best is trial 10 with value: 0.6125.\u001b[0m\n",
            "\u001b[32m[I 2021-05-07 05:52:08,513]\u001b[0m Trial 84 finished with value: 0.6125 and parameters: {'alpha': 3}. Best is trial 10 with value: 0.6125.\u001b[0m\n",
            "\u001b[32m[I 2021-05-07 05:52:08,800]\u001b[0m Trial 85 finished with value: 0.6125 and parameters: {'alpha': 3}. Best is trial 10 with value: 0.6125.\u001b[0m\n",
            "\u001b[32m[I 2021-05-07 05:52:09,090]\u001b[0m Trial 86 finished with value: 0.6095703125 and parameters: {'alpha': 2}. Best is trial 10 with value: 0.6125.\u001b[0m\n",
            "\u001b[32m[I 2021-05-07 05:52:09,376]\u001b[0m Trial 87 finished with value: 0.61220703125 and parameters: {'alpha': 4}. Best is trial 10 with value: 0.6125.\u001b[0m\n",
            "\u001b[32m[I 2021-05-07 05:52:09,659]\u001b[0m Trial 88 finished with value: 0.6125 and parameters: {'alpha': 3}. Best is trial 10 with value: 0.6125.\u001b[0m\n",
            "\u001b[32m[I 2021-05-07 05:52:09,943]\u001b[0m Trial 89 finished with value: 0.6125 and parameters: {'alpha': 3}. Best is trial 10 with value: 0.6125.\u001b[0m\n",
            "\u001b[32m[I 2021-05-07 05:52:10,242]\u001b[0m Trial 90 finished with value: 0.61220703125 and parameters: {'alpha': 4}. Best is trial 10 with value: 0.6125.\u001b[0m\n",
            "\u001b[32m[I 2021-05-07 05:52:10,521]\u001b[0m Trial 91 finished with value: 0.6125 and parameters: {'alpha': 3}. Best is trial 10 with value: 0.6125.\u001b[0m\n",
            "\u001b[32m[I 2021-05-07 05:52:10,806]\u001b[0m Trial 92 finished with value: 0.6125 and parameters: {'alpha': 3}. Best is trial 10 with value: 0.6125.\u001b[0m\n",
            "\u001b[32m[I 2021-05-07 05:52:11,102]\u001b[0m Trial 93 finished with value: 0.6125 and parameters: {'alpha': 3}. Best is trial 10 with value: 0.6125.\u001b[0m\n",
            "\u001b[32m[I 2021-05-07 05:52:11,397]\u001b[0m Trial 94 finished with value: 0.6125 and parameters: {'alpha': 3}. Best is trial 10 with value: 0.6125.\u001b[0m\n",
            "\u001b[32m[I 2021-05-07 05:52:11,694]\u001b[0m Trial 95 finished with value: 0.6125 and parameters: {'alpha': 3}. Best is trial 10 with value: 0.6125.\u001b[0m\n",
            "\u001b[32m[I 2021-05-07 05:52:11,985]\u001b[0m Trial 96 finished with value: 0.6095703125 and parameters: {'alpha': 2}. Best is trial 10 with value: 0.6125.\u001b[0m\n",
            "\u001b[32m[I 2021-05-07 05:52:12,281]\u001b[0m Trial 97 finished with value: 0.6125 and parameters: {'alpha': 3}. Best is trial 10 with value: 0.6125.\u001b[0m\n",
            "\u001b[32m[I 2021-05-07 05:52:12,561]\u001b[0m Trial 98 finished with value: 0.6095703125 and parameters: {'alpha': 2}. Best is trial 10 with value: 0.6125.\u001b[0m\n",
            "\u001b[32m[I 2021-05-07 05:52:12,853]\u001b[0m Trial 99 finished with value: 0.61220703125 and parameters: {'alpha': 4}. Best is trial 10 with value: 0.6125.\u001b[0m\n"
          ],
          "name": "stderr"
        }
      ]
    },
    {
      "cell_type": "code",
      "metadata": {
        "id": "8HGtLIsDXaTS",
        "colab": {
          "base_uri": "https://localhost:8080/"
        },
        "outputId": "5610b901-a27d-4f0a-c744-77c107db1b8b"
      },
      "source": [
        "# Best params\n",
        "\n",
        "best_trial = study.best_trial\n",
        "\n",
        "nb_best = MultinomialNB(**best_trial.params)\n",
        "nb_best.fit(count_train, y_train)\n",
        "(nb_best.predict(count_train) == y_train).mean(), (nb_best.predict(count_valid) == y_valid).mean()"
      ],
      "execution_count": 20,
      "outputs": [
        {
          "output_type": "execute_result",
          "data": {
            "text/plain": [
              "(0.77001953125, 0.6043613707165109)"
            ]
          },
          "metadata": {
            "tags": []
          },
          "execution_count": 20
        }
      ]
    },
    {
      "cell_type": "markdown",
      "metadata": {
        "id": "sLrjtBuAjmMg"
      },
      "source": [
        "### Support vector Machines"
      ]
    },
    {
      "cell_type": "code",
      "metadata": {
        "id": "IsRaXzeujr3e"
      },
      "source": [
        "# Parameter grid\n",
        "\n",
        "def objective(trial):\n",
        "    kernel = trial.suggest_categorical('kernel', ['linear', 'poly', 'rbf', 'sigmoid'])\n",
        "    if kernel is 'poly':\n",
        "        degree = trial.suggest_int('degree', 1, 4)\n",
        "        gamma = trial.suggest_categorical('gamma', ['scale','auto'])\n",
        "        clf = SVC(kernel=kernel, degree=degree, gamma=gamma)\n",
        "\n",
        "    if kernel in ['rbf', 'sigmoid']:\n",
        "        gamma = trial.suggest_categorical('gamma', ['scale','auto'])\n",
        "        clf = SVC(kernel=kernel, gamma=gamma)\n",
        "\n",
        "    clf = SVC(kernel=kernel)\n",
        "\n",
        "    return cross_val_score(clf, count_train, y_train, cv=10, n_jobs=-1).mean()"
      ],
      "execution_count": 29,
      "outputs": []
    },
    {
      "cell_type": "code",
      "metadata": {
        "colab": {
          "base_uri": "https://localhost:8080/"
        },
        "id": "rMN8pi4Ch4eX",
        "outputId": "876ade44-af3b-4315-9256-db1a650bbb54"
      },
      "source": [
        "# Support Vector Machines fitting\n",
        "\n",
        "study = optuna.create_study(direction='maximize')\n",
        "study.optimize(objective, n_trials=10)"
      ],
      "execution_count": 30,
      "outputs": [
        {
          "output_type": "stream",
          "text": [
            "\u001b[32m[I 2021-05-07 06:23:51,305]\u001b[0m A new study created in memory with name: no-name-14f953e5-8fcb-40b2-8f14-d70004b5b20f\u001b[0m\n",
            "\u001b[32m[I 2021-05-07 06:25:36,906]\u001b[0m Trial 0 finished with value: 0.573046875 and parameters: {'kernel': 'poly', 'degree': 4, 'gamma': 'auto'}. Best is trial 0 with value: 0.573046875.\u001b[0m\n",
            "\u001b[32m[I 2021-05-07 06:27:10,317]\u001b[0m Trial 1 finished with value: 0.60732421875 and parameters: {'kernel': 'sigmoid', 'gamma': 'auto'}. Best is trial 1 with value: 0.60732421875.\u001b[0m\n",
            "\u001b[32m[I 2021-05-07 06:28:56,327]\u001b[0m Trial 2 finished with value: 0.573046875 and parameters: {'kernel': 'poly', 'degree': 1, 'gamma': 'auto'}. Best is trial 1 with value: 0.60732421875.\u001b[0m\n",
            "\u001b[32m[I 2021-05-07 06:30:42,531]\u001b[0m Trial 3 finished with value: 0.573046875 and parameters: {'kernel': 'poly', 'degree': 2, 'gamma': 'scale'}. Best is trial 1 with value: 0.60732421875.\u001b[0m\n",
            "\u001b[32m[I 2021-05-07 06:32:36,256]\u001b[0m Trial 4 finished with value: 0.61474609375 and parameters: {'kernel': 'rbf', 'gamma': 'scale'}. Best is trial 4 with value: 0.61474609375.\u001b[0m\n",
            "\u001b[32m[I 2021-05-07 06:34:23,915]\u001b[0m Trial 5 finished with value: 0.573046875 and parameters: {'kernel': 'poly', 'degree': 3, 'gamma': 'auto'}. Best is trial 4 with value: 0.61474609375.\u001b[0m\n",
            "\u001b[32m[I 2021-05-07 06:37:56,782]\u001b[0m Trial 6 finished with value: 0.570703125 and parameters: {'kernel': 'linear'}. Best is trial 4 with value: 0.61474609375.\u001b[0m\n",
            "\u001b[32m[I 2021-05-07 06:39:48,412]\u001b[0m Trial 7 finished with value: 0.61474609375 and parameters: {'kernel': 'rbf', 'gamma': 'auto'}. Best is trial 4 with value: 0.61474609375.\u001b[0m\n",
            "\u001b[32m[I 2021-05-07 06:41:34,314]\u001b[0m Trial 8 finished with value: 0.573046875 and parameters: {'kernel': 'poly', 'degree': 2, 'gamma': 'scale'}. Best is trial 4 with value: 0.61474609375.\u001b[0m\n",
            "\u001b[32m[I 2021-05-07 06:45:06,553]\u001b[0m Trial 9 finished with value: 0.570703125 and parameters: {'kernel': 'linear'}. Best is trial 4 with value: 0.61474609375.\u001b[0m\n"
          ],
          "name": "stderr"
        }
      ]
    },
    {
      "cell_type": "code",
      "metadata": {
        "colab": {
          "base_uri": "https://localhost:8080/"
        },
        "id": "Bztky2Bqjr5g",
        "outputId": "85d66d9a-4237-4a0d-c1c9-19bea3fd1c7e"
      },
      "source": [
        "# Best params\n",
        "\n",
        "best_trial = study.best_trial\n",
        "\n",
        "svc_best = SVC(**best_trial.params)\n",
        "svc_best.fit(count_train, y_train)\n",
        "(svc_best.predict(count_train) == y_train).mean(), (svc_best.predict(count_valid) == y_valid).mean()"
      ],
      "execution_count": 31,
      "outputs": [
        {
          "output_type": "execute_result",
          "data": {
            "text/plain": [
              "(0.92197265625, 0.617601246105919)"
            ]
          },
          "metadata": {
            "tags": []
          },
          "execution_count": 31
        }
      ]
    },
    {
      "cell_type": "markdown",
      "metadata": {
        "id": "1R7SEJHXxvQp"
      },
      "source": [
        "### Random Forest"
      ]
    },
    {
      "cell_type": "code",
      "metadata": {
        "id": "fBYXq41E1NDN"
      },
      "source": [
        "# Parameters grid\n",
        "\n",
        "def objective(trial):\n",
        "    n_estimators = trial.suggest_int('n_estimators', 100, 1000, 100)\n",
        "    criterion = trial.suggest_categorical('criterion', ['gini', 'entropy'])\n",
        "    max_depth = trial.suggest_categorical('max_depth', [4, 5, 6, None])\n",
        "    max_features = trial.suggest_categorical('max_features', ['auto', 'sqrt', 'log2', None])\n",
        "\n",
        "    clf = RandomForestClassifier(n_estimators=n_estimators, criterion=criterion, max_depth=max_depth, max_features=max_features)\n",
        "\n",
        "    return cross_val_score(clf, count_train, y_train, cv=10, n_jobs=-1).mean()"
      ],
      "execution_count": 48,
      "outputs": []
    },
    {
      "cell_type": "code",
      "metadata": {
        "colab": {
          "base_uri": "https://localhost:8080/"
        },
        "id": "j6Zwwy6B1NzK",
        "outputId": "b02c8588-40ba-400c-802f-1ce4d00dd04f"
      },
      "source": [
        "# Random Forest fitting\n",
        "\n",
        "study = optuna.create_study(direction='maximize')\n",
        "study.optimize(objective, n_trials=10)"
      ],
      "execution_count": 49,
      "outputs": [
        {
          "output_type": "stream",
          "text": [
            "\u001b[32m[I 2021-05-07 06:57:50,171]\u001b[0m A new study created in memory with name: no-name-3de7f1da-7c3e-4ea9-90e1-722a767244c9\u001b[0m\n",
            "\u001b[32m[I 2021-05-07 07:05:23,609]\u001b[0m Trial 0 finished with value: 0.61162109375 and parameters: {'n_estimators': 300, 'criterion': 'gini', 'max_depth': None, 'max_features': 'auto'}. Best is trial 0 with value: 0.61162109375.\u001b[0m\n",
            "/usr/local/lib/python3.7/dist-packages/joblib/externals/loky/process_executor.py:691: UserWarning:\n",
            "\n",
            "A worker stopped while some jobs were given to the executor. This can be caused by a too short worker timeout or by a memory leak.\n",
            "\n",
            "\u001b[32m[I 2021-05-07 07:12:37,172]\u001b[0m Trial 1 finished with value: 0.61591796875 and parameters: {'n_estimators': 300, 'criterion': 'gini', 'max_depth': None, 'max_features': 'log2'}. Best is trial 1 with value: 0.61591796875.\u001b[0m\n",
            "\u001b[32m[I 2021-05-07 07:13:06,751]\u001b[0m Trial 2 finished with value: 0.56171875 and parameters: {'n_estimators': 600, 'criterion': 'gini', 'max_depth': 5, 'max_features': 'sqrt'}. Best is trial 1 with value: 0.61591796875.\u001b[0m\n",
            "\u001b[32m[I 2021-05-07 07:13:29,151]\u001b[0m Trial 3 finished with value: 0.56171875 and parameters: {'n_estimators': 800, 'criterion': 'entropy', 'max_depth': 6, 'max_features': 'log2'}. Best is trial 1 with value: 0.61591796875.\u001b[0m\n",
            "\u001b[32m[I 2021-05-07 07:18:20,931]\u001b[0m Trial 4 finished with value: 0.61884765625 and parameters: {'n_estimators': 200, 'criterion': 'entropy', 'max_depth': None, 'max_features': 'log2'}. Best is trial 4 with value: 0.61884765625.\u001b[0m\n",
            "\u001b[32m[I 2021-05-07 07:28:45,470]\u001b[0m Trial 5 finished with value: 0.61494140625 and parameters: {'n_estimators': 400, 'criterion': 'entropy', 'max_depth': None, 'max_features': 'sqrt'}. Best is trial 4 with value: 0.61884765625.\u001b[0m\n",
            "\u001b[32m[I 2021-05-07 07:28:50,548]\u001b[0m Trial 6 finished with value: 0.56171875 and parameters: {'n_estimators': 200, 'criterion': 'gini', 'max_depth': 4, 'max_features': 'log2'}. Best is trial 4 with value: 0.61884765625.\u001b[0m\n",
            "\u001b[32m[I 2021-05-07 07:39:13,582]\u001b[0m Trial 7 finished with value: 0.61279296875 and parameters: {'n_estimators': 400, 'criterion': 'entropy', 'max_depth': None, 'max_features': 'auto'}. Best is trial 4 with value: 0.61884765625.\u001b[0m\n",
            "\u001b[32m[I 2021-05-07 07:39:21,456]\u001b[0m Trial 8 finished with value: 0.56171875 and parameters: {'n_estimators': 300, 'criterion': 'gini', 'max_depth': 4, 'max_features': 'log2'}. Best is trial 4 with value: 0.61884765625.\u001b[0m\n",
            "\u001b[32m[I 2021-05-07 07:39:32,666]\u001b[0m Trial 9 finished with value: 0.56171875 and parameters: {'n_estimators': 400, 'criterion': 'gini', 'max_depth': 4, 'max_features': 'log2'}. Best is trial 4 with value: 0.61884765625.\u001b[0m\n"
          ],
          "name": "stderr"
        }
      ]
    },
    {
      "cell_type": "code",
      "metadata": {
        "colab": {
          "base_uri": "https://localhost:8080/"
        },
        "id": "vsrvjX_mxb-g",
        "outputId": "7a1ad1f6-05f9-4097-d6a2-4ae99a4f7704"
      },
      "source": [
        "# Best params\n",
        "\n",
        "best_trial = study.best_trial\n",
        "\n",
        "rf_best = RandomForestClassifier(**best_trial.params)\n",
        "rf_best.fit(count_train, y_train)\n",
        "(rf_best.predict(count_train) == y_train).mean(), (rf_best.predict(count_valid) == y_valid).mean()"
      ],
      "execution_count": 50,
      "outputs": [
        {
          "output_type": "execute_result",
          "data": {
            "text/plain": [
              "(0.999609375, 0.6082554517133957)"
            ]
          },
          "metadata": {
            "tags": []
          },
          "execution_count": 50
        }
      ]
    },
    {
      "cell_type": "markdown",
      "metadata": {
        "id": "5Wpg-76x2Cvj"
      },
      "source": [
        "### Passive Aggressive "
      ]
    },
    {
      "cell_type": "code",
      "metadata": {
        "id": "QaFX0p-I2Gpl"
      },
      "source": [
        "# Parameters grid\n",
        "\n",
        "def objective(trial):\n",
        "    C = trial.suggest_loguniform('C', 1, 10e6)\n",
        "    max_iter = trial.suggest_int('max_iter', 1000, 2000, 100)\n",
        "    tol = trial.suggest_loguniform('tol', 10e-6, 1)\n",
        "\n",
        "    clf = PassiveAggressiveClassifier(C=C, max_iter=max_iter, tol=tol)\n",
        "\n",
        "    return cross_val_score(clf, count_train, y_train, cv=10, n_jobs=-1).mean()"
      ],
      "execution_count": 56,
      "outputs": []
    },
    {
      "cell_type": "code",
      "metadata": {
        "colab": {
          "base_uri": "https://localhost:8080/"
        },
        "id": "AXg1qACW2Grb",
        "outputId": "71635259-2f97-41c7-b23a-9b14878fee0c"
      },
      "source": [
        "# Passive Agressive fitting\n",
        "\n",
        "study = optuna.create_study(direction='maximize')\n",
        "study.optimize(objective, n_trials=10)"
      ],
      "execution_count": 57,
      "outputs": [
        {
          "output_type": "stream",
          "text": [
            "\u001b[32m[I 2021-05-07 08:20:03,729]\u001b[0m A new study created in memory with name: no-name-698776a7-ae14-4b26-b4c9-9d5b1f5ff167\u001b[0m\n",
            "\u001b[32m[I 2021-05-07 08:20:05,382]\u001b[0m Trial 0 finished with value: 0.551953125 and parameters: {'C': 360.13768802278463, 'max_iter': 1500, 'tol': 0.0055916187503166764}. Best is trial 0 with value: 0.551953125.\u001b[0m\n",
            "\u001b[32m[I 2021-05-07 08:20:06,823]\u001b[0m Trial 1 finished with value: 0.54462890625 and parameters: {'C': 89071.76681055999, 'max_iter': 1600, 'tol': 1.6445577883763665e-05}. Best is trial 0 with value: 0.551953125.\u001b[0m\n",
            "\u001b[32m[I 2021-05-07 08:20:08,289]\u001b[0m Trial 2 finished with value: 0.54541015625 and parameters: {'C': 7.289980359492993, 'max_iter': 1300, 'tol': 1.7858525837341203e-05}. Best is trial 0 with value: 0.551953125.\u001b[0m\n",
            "\u001b[32m[I 2021-05-07 08:20:08,747]\u001b[0m Trial 3 finished with value: 0.5544921875 and parameters: {'C': 37661.44746002921, 'max_iter': 1100, 'tol': 0.006076774807693098}. Best is trial 3 with value: 0.5544921875.\u001b[0m\n",
            "\u001b[32m[I 2021-05-07 08:20:08,995]\u001b[0m Trial 4 finished with value: 0.56435546875 and parameters: {'C': 410.5848058864682, 'max_iter': 1200, 'tol': 0.05548504547958647}. Best is trial 4 with value: 0.56435546875.\u001b[0m\n",
            "\u001b[32m[I 2021-05-07 08:20:09,206]\u001b[0m Trial 5 finished with value: 0.5634765625 and parameters: {'C': 2.8176305352193203, 'max_iter': 1700, 'tol': 0.25474904606233456}. Best is trial 4 with value: 0.56435546875.\u001b[0m\n",
            "\u001b[32m[I 2021-05-07 08:20:09,418]\u001b[0m Trial 6 finished with value: 0.55751953125 and parameters: {'C': 145754.65432352302, 'max_iter': 1100, 'tol': 0.26306247855625164}. Best is trial 4 with value: 0.56435546875.\u001b[0m\n",
            "\u001b[32m[I 2021-05-07 08:20:10,887]\u001b[0m Trial 7 finished with value: 0.54697265625 and parameters: {'C': 16.646997861194908, 'max_iter': 1700, 'tol': 4.976382765342541e-05}. Best is trial 4 with value: 0.56435546875.\u001b[0m\n",
            "\u001b[32m[I 2021-05-07 08:20:12,404]\u001b[0m Trial 8 finished with value: 0.54482421875 and parameters: {'C': 2635117.770772831, 'max_iter': 1400, 'tol': 1.4506187824404531e-05}. Best is trial 4 with value: 0.56435546875.\u001b[0m\n",
            "\u001b[32m[I 2021-05-07 08:20:12,617]\u001b[0m Trial 9 finished with value: 0.55888671875 and parameters: {'C': 2681.837335792516, 'max_iter': 1700, 'tol': 0.7625199371540511}. Best is trial 4 with value: 0.56435546875.\u001b[0m\n"
          ],
          "name": "stderr"
        }
      ]
    },
    {
      "cell_type": "code",
      "metadata": {
        "colab": {
          "base_uri": "https://localhost:8080/"
        },
        "id": "RsaLssDI2G42",
        "outputId": "5758938e-8365-4362-be46-935bf46713a1"
      },
      "source": [
        "# Best trial\n",
        "\n",
        "best_trial = study.best_trial\n",
        "\n",
        "pa_best = PassiveAggressiveClassifier(**best_trial.params)\n",
        "pa_best.fit(count_train, y_train)\n",
        "(pa_best.predict(count_train) == y_train).mean(), (pa_best.predict(count_valid) == y_valid).mean()"
      ],
      "execution_count": 58,
      "outputs": [
        {
          "output_type": "execute_result",
          "data": {
            "text/plain": [
              "(0.88486328125, 0.5763239875389408)"
            ]
          },
          "metadata": {
            "tags": []
          },
          "execution_count": 58
        }
      ]
    },
    {
      "cell_type": "markdown",
      "metadata": {
        "id": "xzYEsVDU16QV"
      },
      "source": [
        "## Creating Count Vectorizer piplines"
      ]
    },
    {
      "cell_type": "code",
      "metadata": {
        "id": "UlDhfp801-qt"
      },
      "source": [
        "# logreg pipeline\n",
        "\n",
        "logreg_pipeline = Pipeline([\n",
        "     ('count_vec', CountVectorizer()),\n",
        "     ('logreg', LogisticRegression(penalty='l2', C=0.003944515869288046))\n",
        "])"
      ],
      "execution_count": 67,
      "outputs": []
    },
    {
      "cell_type": "code",
      "metadata": {
        "id": "KA6mRcTO7ipb"
      },
      "source": [
        "# nb pipeline\n",
        "\n",
        "nb_pipeline = Pipeline([\n",
        "      ('count_vec', CountVectorizer()),\n",
        "      ('nb', MultinomialNB(alpha=3))\n",
        "])"
      ],
      "execution_count": 68,
      "outputs": []
    },
    {
      "cell_type": "code",
      "metadata": {
        "id": "n2nmYqPe7i1X"
      },
      "source": [
        "# svc pipeline\n",
        "\n",
        "svc_pipeline = Pipeline([\n",
        "      ('count_vec', CountVectorizer()),\n",
        "      ('svc', SVC(kernel='rbf', gamma='scale', probability=True))\n",
        "])"
      ],
      "execution_count": 80,
      "outputs": []
    },
    {
      "cell_type": "code",
      "metadata": {
        "id": "hcgggcGh1-tb"
      },
      "source": [
        "# rf pipeline\n",
        "\n",
        "rf_pipeline = Pipeline([\n",
        "      ('count_vec', CountVectorizer()),\n",
        "      ('rf', RandomForestClassifier(n_estimators=200, criterion='entropy', max_depth=None, max_features='log2'))\n",
        "])"
      ],
      "execution_count": 70,
      "outputs": []
    },
    {
      "cell_type": "code",
      "metadata": {
        "id": "flPxe_5G1-vU"
      },
      "source": [
        "# pa pipeline\n",
        "\n",
        "pa_pipeline = Pipeline([\n",
        "      ('count_vec', CountVectorizer()),\n",
        "      ('pa', PassiveAggressiveClassifier(C=410.5848058864682, max_iter=1200, tol=0.05548504547958647))\n",
        "])"
      ],
      "execution_count": 71,
      "outputs": []
    },
    {
      "cell_type": "code",
      "metadata": {
        "colab": {
          "base_uri": "https://localhost:8080/"
        },
        "id": "M6pMp4Z815S4",
        "outputId": "710fa6bb-61a7-4727-d205-1555397f307b"
      },
      "source": [
        "# Ensemble of the above classifiers\n",
        "\n",
        "list_clfs = [('logreg_pipeline', logreg_pipeline), ('nb_pipeline', nb_pipeline), ('svc_pipeline', svc_pipeline), ('rf_pipeline', rf_pipeline), ('pa_pipeline', pa_pipeline)]\n",
        "\n",
        "count_detector = VotingClassifier(estimators=list_clfs, voting='soft', n_jobs=-1)\n",
        "count_detector.fit(X_train, y_train)"
      ],
      "execution_count": null,
      "outputs": [
        {
          "output_type": "stream",
          "text": [
            "/usr/local/lib/python3.7/dist-packages/joblib/externals/loky/process_executor.py:691: UserWarning:\n",
            "\n",
            "A worker stopped while some jobs were given to the executor. This can be caused by a too short worker timeout or by a memory leak.\n",
            "\n"
          ],
          "name": "stderr"
        }
      ]
    },
    {
      "cell_type": "code",
      "metadata": {
        "colab": {
          "base_uri": "https://localhost:8080/",
          "height": 348
        },
        "id": "2n9D--CqaT-o",
        "outputId": "d675a5b0-2f9b-4468-9bfd-e6b8df644b72"
      },
      "source": [
        "# Prediction from voting classifier\n",
        "\n",
        "(count_detector.predict(X_train) == y_train).mean()"
      ],
      "execution_count": 79,
      "outputs": [
        {
          "output_type": "error",
          "ename": "AttributeError",
          "evalue": "ignored",
          "traceback": [
            "\u001b[0;31m---------------------------------------------------------------------------\u001b[0m",
            "\u001b[0;31mAttributeError\u001b[0m                            Traceback (most recent call last)",
            "\u001b[0;32m<ipython-input-79-9a898ccdebe4>\u001b[0m in \u001b[0;36m<module>\u001b[0;34m()\u001b[0m\n\u001b[1;32m      1\u001b[0m \u001b[0;31m# Prediction from voting classifier\u001b[0m\u001b[0;34m\u001b[0m\u001b[0;34m\u001b[0m\u001b[0;34m\u001b[0m\u001b[0m\n\u001b[1;32m      2\u001b[0m \u001b[0;34m\u001b[0m\u001b[0m\n\u001b[0;32m----> 3\u001b[0;31m \u001b[0mcount_detector\u001b[0m\u001b[0;34m.\u001b[0m\u001b[0mpredict_proba\u001b[0m\u001b[0;34m(\u001b[0m\u001b[0mX_train\u001b[0m\u001b[0;34m)\u001b[0m\u001b[0;34m\u001b[0m\u001b[0;34m\u001b[0m\u001b[0m\n\u001b[0m",
            "\u001b[0;32m/usr/local/lib/python3.7/dist-packages/sklearn/ensemble/_voting.py\u001b[0m in \u001b[0;36m_predict_proba\u001b[0;34m(self, X)\u001b[0m\n\u001b[1;32m    257\u001b[0m         \u001b[0;34m\"\"\"Predict class probabilities for X in 'soft' voting.\"\"\"\u001b[0m\u001b[0;34m\u001b[0m\u001b[0;34m\u001b[0m\u001b[0m\n\u001b[1;32m    258\u001b[0m         \u001b[0mcheck_is_fitted\u001b[0m\u001b[0;34m(\u001b[0m\u001b[0mself\u001b[0m\u001b[0;34m)\u001b[0m\u001b[0;34m\u001b[0m\u001b[0;34m\u001b[0m\u001b[0m\n\u001b[0;32m--> 259\u001b[0;31m         avg = np.average(self._collect_probas(X), axis=0,\n\u001b[0m\u001b[1;32m    260\u001b[0m                          weights=self._weights_not_none)\n\u001b[1;32m    261\u001b[0m         \u001b[0;32mreturn\u001b[0m \u001b[0mavg\u001b[0m\u001b[0;34m\u001b[0m\u001b[0;34m\u001b[0m\u001b[0m\n",
            "\u001b[0;32m/usr/local/lib/python3.7/dist-packages/sklearn/ensemble/_voting.py\u001b[0m in \u001b[0;36m_collect_probas\u001b[0;34m(self, X)\u001b[0m\n\u001b[1;32m    252\u001b[0m     \u001b[0;32mdef\u001b[0m \u001b[0m_collect_probas\u001b[0m\u001b[0;34m(\u001b[0m\u001b[0mself\u001b[0m\u001b[0;34m,\u001b[0m \u001b[0mX\u001b[0m\u001b[0;34m)\u001b[0m\u001b[0;34m:\u001b[0m\u001b[0;34m\u001b[0m\u001b[0;34m\u001b[0m\u001b[0m\n\u001b[1;32m    253\u001b[0m         \u001b[0;34m\"\"\"Collect results from clf.predict calls.\"\"\"\u001b[0m\u001b[0;34m\u001b[0m\u001b[0;34m\u001b[0m\u001b[0m\n\u001b[0;32m--> 254\u001b[0;31m         \u001b[0;32mreturn\u001b[0m \u001b[0mnp\u001b[0m\u001b[0;34m.\u001b[0m\u001b[0masarray\u001b[0m\u001b[0;34m(\u001b[0m\u001b[0;34m[\u001b[0m\u001b[0mclf\u001b[0m\u001b[0;34m.\u001b[0m\u001b[0mpredict_proba\u001b[0m\u001b[0;34m(\u001b[0m\u001b[0mX\u001b[0m\u001b[0;34m)\u001b[0m \u001b[0;32mfor\u001b[0m \u001b[0mclf\u001b[0m \u001b[0;32min\u001b[0m \u001b[0mself\u001b[0m\u001b[0;34m.\u001b[0m\u001b[0mestimators_\u001b[0m\u001b[0;34m]\u001b[0m\u001b[0;34m)\u001b[0m\u001b[0;34m\u001b[0m\u001b[0;34m\u001b[0m\u001b[0m\n\u001b[0m\u001b[1;32m    255\u001b[0m \u001b[0;34m\u001b[0m\u001b[0m\n\u001b[1;32m    256\u001b[0m     \u001b[0;32mdef\u001b[0m \u001b[0m_predict_proba\u001b[0m\u001b[0;34m(\u001b[0m\u001b[0mself\u001b[0m\u001b[0;34m,\u001b[0m \u001b[0mX\u001b[0m\u001b[0;34m)\u001b[0m\u001b[0;34m:\u001b[0m\u001b[0;34m\u001b[0m\u001b[0;34m\u001b[0m\u001b[0m\n",
            "\u001b[0;32m/usr/local/lib/python3.7/dist-packages/sklearn/ensemble/_voting.py\u001b[0m in \u001b[0;36m<listcomp>\u001b[0;34m(.0)\u001b[0m\n\u001b[1;32m    252\u001b[0m     \u001b[0;32mdef\u001b[0m \u001b[0m_collect_probas\u001b[0m\u001b[0;34m(\u001b[0m\u001b[0mself\u001b[0m\u001b[0;34m,\u001b[0m \u001b[0mX\u001b[0m\u001b[0;34m)\u001b[0m\u001b[0;34m:\u001b[0m\u001b[0;34m\u001b[0m\u001b[0;34m\u001b[0m\u001b[0m\n\u001b[1;32m    253\u001b[0m         \u001b[0;34m\"\"\"Collect results from clf.predict calls.\"\"\"\u001b[0m\u001b[0;34m\u001b[0m\u001b[0;34m\u001b[0m\u001b[0m\n\u001b[0;32m--> 254\u001b[0;31m         \u001b[0;32mreturn\u001b[0m \u001b[0mnp\u001b[0m\u001b[0;34m.\u001b[0m\u001b[0masarray\u001b[0m\u001b[0;34m(\u001b[0m\u001b[0;34m[\u001b[0m\u001b[0mclf\u001b[0m\u001b[0;34m.\u001b[0m\u001b[0mpredict_proba\u001b[0m\u001b[0;34m(\u001b[0m\u001b[0mX\u001b[0m\u001b[0;34m)\u001b[0m \u001b[0;32mfor\u001b[0m \u001b[0mclf\u001b[0m \u001b[0;32min\u001b[0m \u001b[0mself\u001b[0m\u001b[0;34m.\u001b[0m\u001b[0mestimators_\u001b[0m\u001b[0;34m]\u001b[0m\u001b[0;34m)\u001b[0m\u001b[0;34m\u001b[0m\u001b[0;34m\u001b[0m\u001b[0m\n\u001b[0m\u001b[1;32m    255\u001b[0m \u001b[0;34m\u001b[0m\u001b[0m\n\u001b[1;32m    256\u001b[0m     \u001b[0;32mdef\u001b[0m \u001b[0m_predict_proba\u001b[0m\u001b[0;34m(\u001b[0m\u001b[0mself\u001b[0m\u001b[0;34m,\u001b[0m \u001b[0mX\u001b[0m\u001b[0;34m)\u001b[0m\u001b[0;34m:\u001b[0m\u001b[0;34m\u001b[0m\u001b[0;34m\u001b[0m\u001b[0m\n",
            "\u001b[0;32m/usr/local/lib/python3.7/dist-packages/sklearn/utils/metaestimators.py\u001b[0m in \u001b[0;36m__get__\u001b[0;34m(self, obj, type)\u001b[0m\n\u001b[1;32m    108\u001b[0m                     \u001b[0;32mcontinue\u001b[0m\u001b[0;34m\u001b[0m\u001b[0;34m\u001b[0m\u001b[0m\n\u001b[1;32m    109\u001b[0m                 \u001b[0;32melse\u001b[0m\u001b[0;34m:\u001b[0m\u001b[0;34m\u001b[0m\u001b[0;34m\u001b[0m\u001b[0m\n\u001b[0;32m--> 110\u001b[0;31m                     \u001b[0mgetattr\u001b[0m\u001b[0;34m(\u001b[0m\u001b[0mdelegate\u001b[0m\u001b[0;34m,\u001b[0m \u001b[0mself\u001b[0m\u001b[0;34m.\u001b[0m\u001b[0mattribute_name\u001b[0m\u001b[0;34m)\u001b[0m\u001b[0;34m\u001b[0m\u001b[0;34m\u001b[0m\u001b[0m\n\u001b[0m\u001b[1;32m    111\u001b[0m                     \u001b[0;32mbreak\u001b[0m\u001b[0;34m\u001b[0m\u001b[0;34m\u001b[0m\u001b[0m\n\u001b[1;32m    112\u001b[0m             \u001b[0;32melse\u001b[0m\u001b[0;34m:\u001b[0m\u001b[0;34m\u001b[0m\u001b[0;34m\u001b[0m\u001b[0m\n",
            "\u001b[0;32m/usr/local/lib/python3.7/dist-packages/sklearn/svm/_base.py\u001b[0m in \u001b[0;36mpredict_proba\u001b[0;34m(self)\u001b[0m\n\u001b[1;32m    634\u001b[0m         \u001b[0mdatasets\u001b[0m\u001b[0;34m.\u001b[0m\u001b[0;34m\u001b[0m\u001b[0;34m\u001b[0m\u001b[0m\n\u001b[1;32m    635\u001b[0m         \"\"\"\n\u001b[0;32m--> 636\u001b[0;31m         \u001b[0mself\u001b[0m\u001b[0;34m.\u001b[0m\u001b[0m_check_proba\u001b[0m\u001b[0;34m(\u001b[0m\u001b[0;34m)\u001b[0m\u001b[0;34m\u001b[0m\u001b[0;34m\u001b[0m\u001b[0m\n\u001b[0m\u001b[1;32m    637\u001b[0m         \u001b[0;32mreturn\u001b[0m \u001b[0mself\u001b[0m\u001b[0;34m.\u001b[0m\u001b[0m_predict_proba\u001b[0m\u001b[0;34m\u001b[0m\u001b[0;34m\u001b[0m\u001b[0m\n\u001b[1;32m    638\u001b[0m \u001b[0;34m\u001b[0m\u001b[0m\n",
            "\u001b[0;32m/usr/local/lib/python3.7/dist-packages/sklearn/svm/_base.py\u001b[0m in \u001b[0;36m_check_proba\u001b[0;34m(self)\u001b[0m\n\u001b[1;32m    601\u001b[0m     \u001b[0;32mdef\u001b[0m \u001b[0m_check_proba\u001b[0m\u001b[0;34m(\u001b[0m\u001b[0mself\u001b[0m\u001b[0;34m)\u001b[0m\u001b[0;34m:\u001b[0m\u001b[0;34m\u001b[0m\u001b[0;34m\u001b[0m\u001b[0m\n\u001b[1;32m    602\u001b[0m         \u001b[0;32mif\u001b[0m \u001b[0;32mnot\u001b[0m \u001b[0mself\u001b[0m\u001b[0;34m.\u001b[0m\u001b[0mprobability\u001b[0m\u001b[0;34m:\u001b[0m\u001b[0;34m\u001b[0m\u001b[0;34m\u001b[0m\u001b[0m\n\u001b[0;32m--> 603\u001b[0;31m             raise AttributeError(\"predict_proba is not available when \"\n\u001b[0m\u001b[1;32m    604\u001b[0m                                  \" probability=False\")\n\u001b[1;32m    605\u001b[0m         \u001b[0;32mif\u001b[0m \u001b[0mself\u001b[0m\u001b[0;34m.\u001b[0m\u001b[0m_impl\u001b[0m \u001b[0;32mnot\u001b[0m \u001b[0;32min\u001b[0m \u001b[0;34m(\u001b[0m\u001b[0;34m'c_svc'\u001b[0m\u001b[0;34m,\u001b[0m \u001b[0;34m'nu_svc'\u001b[0m\u001b[0;34m)\u001b[0m\u001b[0;34m:\u001b[0m\u001b[0;34m\u001b[0m\u001b[0;34m\u001b[0m\u001b[0m\n",
            "\u001b[0;31mAttributeError\u001b[0m: predict_proba is not available when  probability=False"
          ]
        }
      ]
    },
    {
      "cell_type": "code",
      "metadata": {
        "colab": {
          "base_uri": "https://localhost:8080/"
        },
        "id": "JPIVW1O6HN4F",
        "outputId": "a5bd31af-32ae-49ab-fed5-9e91419dea22"
      },
      "source": [
        "tfidf = TfidfVectorizer()\n",
        "tfidf.fit(X_train, y_train)"
      ],
      "execution_count": null,
      "outputs": [
        {
          "output_type": "execute_result",
          "data": {
            "text/plain": [
              "TfidfVectorizer(analyzer='word', binary=False, decode_error='strict',\n",
              "                dtype=<class 'numpy.float64'>, encoding='utf-8',\n",
              "                input='content', lowercase=True, max_df=1.0, max_features=None,\n",
              "                min_df=1, ngram_range=(1, 1), norm='l2', preprocessor=None,\n",
              "                smooth_idf=True, stop_words=None, strip_accents=None,\n",
              "                sublinear_tf=False, token_pattern='(?u)\\\\b\\\\w\\\\w+\\\\b',\n",
              "                tokenizer=None, use_idf=True, vocabulary=None)"
            ]
          },
          "metadata": {
            "tags": []
          },
          "execution_count": 193
        }
      ]
    },
    {
      "cell_type": "code",
      "metadata": {
        "id": "c2HetZGSR7pS"
      },
      "source": [
        "tfidf_train = tfidf.transform(X_train)"
      ],
      "execution_count": null,
      "outputs": []
    },
    {
      "cell_type": "code",
      "metadata": {
        "colab": {
          "base_uri": "https://localhost:8080/"
        },
        "id": "yHHEp8foSCeN",
        "outputId": "6395684b-245e-4d4b-a5a9-e233e6cff4e1"
      },
      "source": [
        "nb.fit(tfidf_train, y_train)"
      ],
      "execution_count": null,
      "outputs": [
        {
          "output_type": "execute_result",
          "data": {
            "text/plain": [
              "MultinomialNB(alpha=6.8, class_prior=None, fit_prior=True)"
            ]
          },
          "metadata": {
            "tags": []
          },
          "execution_count": 195
        }
      ]
    },
    {
      "cell_type": "code",
      "metadata": {
        "colab": {
          "base_uri": "https://localhost:8080/"
        },
        "id": "cDCx_myOSGNp",
        "outputId": "c090cd3e-7287-4acc-ec66-e34f0a072812"
      },
      "source": [
        "(nb.predict(tfidf_train) == y_train).mean()"
      ],
      "execution_count": null,
      "outputs": [
        {
          "output_type": "execute_result",
          "data": {
            "text/plain": [
              "0.6060546875"
            ]
          },
          "metadata": {
            "tags": []
          },
          "execution_count": 196
        }
      ]
    },
    {
      "cell_type": "code",
      "metadata": {
        "id": "Gy32RvwIecnQ"
      },
      "source": [
        ""
      ],
      "execution_count": null,
      "outputs": []
    }
  ]
}