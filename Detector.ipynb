{
  "nbformat": 4,
  "nbformat_minor": 0,
  "metadata": {
    "colab": {
      "name": "Detector.ipynb",
      "provenance": []
    },
    "kernelspec": {
      "name": "python3",
      "display_name": "Python 3"
    },
    "language_info": {
      "name": "python"
    }
  },
  "cells": [
    {
      "cell_type": "markdown",
      "metadata": {
        "id": "CgVuuuj1ritJ"
      },
      "source": [
        "# Fake News Detection"
      ]
    },
    {
      "cell_type": "code",
      "metadata": {
        "colab": {
          "base_uri": "https://localhost:8080/"
        },
        "id": "29gEKtWRr7Ar",
        "outputId": "35444d63-b46c-4b93-d35c-4c8b5cb07925"
      },
      "source": [
        "# Download the dataset\n",
        "\n",
        "!wget -O \"liar.zip\" \"https://www.cs.ucsb.edu/~william/data/liar_dataset.zip\""
      ],
      "execution_count": 2,
      "outputs": [
        {
          "output_type": "stream",
          "text": [
            "--2021-05-01 11:30:33--  https://www.cs.ucsb.edu/~william/data/liar_dataset.zip\n",
            "Resolving www.cs.ucsb.edu (www.cs.ucsb.edu)... 23.185.0.3, 2620:12a:8000::3, 2620:12a:8001::3\n",
            "Connecting to www.cs.ucsb.edu (www.cs.ucsb.edu)|23.185.0.3|:443... connected.\n",
            "HTTP request sent, awaiting response... 301 Moved Permanently\n",
            "Location: https://sites.cs.ucsb.edu/~william/data/liar_dataset.zip [following]\n",
            "--2021-05-01 11:30:33--  https://sites.cs.ucsb.edu/~william/data/liar_dataset.zip\n",
            "Resolving sites.cs.ucsb.edu (sites.cs.ucsb.edu)... 128.111.27.164\n",
            "Connecting to sites.cs.ucsb.edu (sites.cs.ucsb.edu)|128.111.27.164|:443... connected.\n",
            "HTTP request sent, awaiting response... 200 OK\n",
            "Length: 1013571 (990K) [application/zip]\n",
            "Saving to: ‘liar.zip’\n",
            "\n",
            "liar.zip            100%[===================>] 989.82K  2.67MB/s    in 0.4s    \n",
            "\n",
            "2021-05-01 11:30:34 (2.67 MB/s) - ‘liar.zip’ saved [1013571/1013571]\n",
            "\n"
          ],
          "name": "stdout"
        }
      ]
    },
    {
      "cell_type": "code",
      "metadata": {
        "id": "VW67vyctpz1D"
      },
      "source": [
        "# Required modules\n",
        "\n",
        "import numpy as np\n",
        "import pandas as pd\n",
        "import tensorflow as tf\n",
        "\n",
        "from zipfile import ZipFile\n",
        "from matplotlib import pyplot as plt"
      ],
      "execution_count": 1,
      "outputs": []
    },
    {
      "cell_type": "code",
      "metadata": {
        "id": "jJjHh40UspUc"
      },
      "source": [
        "# Initial Configration\n",
        "\n",
        "%matplotlib inline\n",
        "plt.rcParams['figure.figsize'] = (12, 7)"
      ],
      "execution_count": 5,
      "outputs": []
    },
    {
      "cell_type": "code",
      "metadata": {
        "id": "PH-4p__ssfkT"
      },
      "source": [
        "# Extracting the dataset\n",
        "\n",
        "with ZipFile('liar.zip', 'r') as zf:\n",
        "    zf.extractall('./')"
      ],
      "execution_count": 6,
      "outputs": []
    },
    {
      "cell_type": "code",
      "metadata": {
        "colab": {
          "base_uri": "https://localhost:8080/",
          "height": 834
        },
        "id": "muswtLGRtu5k",
        "outputId": "79287ebc-5265-4567-9b71-b09de84d454d"
      },
      "source": [
        "# Loading the dataset\n",
        "\n",
        "train = pd.read_csv('train.tsv', sep='\\t')\n",
        "train.head()"
      ],
      "execution_count": 7,
      "outputs": [
        {
          "output_type": "execute_result",
          "data": {
            "text/html": [
              "<div>\n",
              "<style scoped>\n",
              "    .dataframe tbody tr th:only-of-type {\n",
              "        vertical-align: middle;\n",
              "    }\n",
              "\n",
              "    .dataframe tbody tr th {\n",
              "        vertical-align: top;\n",
              "    }\n",
              "\n",
              "    .dataframe thead th {\n",
              "        text-align: right;\n",
              "    }\n",
              "</style>\n",
              "<table border=\"1\" class=\"dataframe\">\n",
              "  <thead>\n",
              "    <tr style=\"text-align: right;\">\n",
              "      <th></th>\n",
              "      <th>2635.json</th>\n",
              "      <th>false</th>\n",
              "      <th>Says the Annies List political group supports third-trimester abortions on demand.</th>\n",
              "      <th>abortion</th>\n",
              "      <th>dwayne-bohac</th>\n",
              "      <th>State representative</th>\n",
              "      <th>Texas</th>\n",
              "      <th>republican</th>\n",
              "      <th>0</th>\n",
              "      <th>1</th>\n",
              "      <th>0.1</th>\n",
              "      <th>0.2</th>\n",
              "      <th>0.3</th>\n",
              "      <th>a mailer</th>\n",
              "    </tr>\n",
              "  </thead>\n",
              "  <tbody>\n",
              "    <tr>\n",
              "      <th>0</th>\n",
              "      <td>10540.json</td>\n",
              "      <td>half-true</td>\n",
              "      <td>When did the decline of coal start? It started...</td>\n",
              "      <td>energy,history,job-accomplishments</td>\n",
              "      <td>scott-surovell</td>\n",
              "      <td>State delegate</td>\n",
              "      <td>Virginia</td>\n",
              "      <td>democrat</td>\n",
              "      <td>0.0</td>\n",
              "      <td>0.0</td>\n",
              "      <td>1.0</td>\n",
              "      <td>1.0</td>\n",
              "      <td>0.0</td>\n",
              "      <td>a floor speech.</td>\n",
              "    </tr>\n",
              "    <tr>\n",
              "      <th>1</th>\n",
              "      <td>324.json</td>\n",
              "      <td>mostly-true</td>\n",
              "      <td>Hillary Clinton agrees with John McCain \"by vo...</td>\n",
              "      <td>foreign-policy</td>\n",
              "      <td>barack-obama</td>\n",
              "      <td>President</td>\n",
              "      <td>Illinois</td>\n",
              "      <td>democrat</td>\n",
              "      <td>70.0</td>\n",
              "      <td>71.0</td>\n",
              "      <td>160.0</td>\n",
              "      <td>163.0</td>\n",
              "      <td>9.0</td>\n",
              "      <td>Denver</td>\n",
              "    </tr>\n",
              "    <tr>\n",
              "      <th>2</th>\n",
              "      <td>1123.json</td>\n",
              "      <td>false</td>\n",
              "      <td>Health care reform legislation is likely to ma...</td>\n",
              "      <td>health-care</td>\n",
              "      <td>blog-posting</td>\n",
              "      <td>NaN</td>\n",
              "      <td>NaN</td>\n",
              "      <td>none</td>\n",
              "      <td>7.0</td>\n",
              "      <td>19.0</td>\n",
              "      <td>3.0</td>\n",
              "      <td>5.0</td>\n",
              "      <td>44.0</td>\n",
              "      <td>a news release</td>\n",
              "    </tr>\n",
              "    <tr>\n",
              "      <th>3</th>\n",
              "      <td>9028.json</td>\n",
              "      <td>half-true</td>\n",
              "      <td>The economic turnaround started at the end of ...</td>\n",
              "      <td>economy,jobs</td>\n",
              "      <td>charlie-crist</td>\n",
              "      <td>NaN</td>\n",
              "      <td>Florida</td>\n",
              "      <td>democrat</td>\n",
              "      <td>15.0</td>\n",
              "      <td>9.0</td>\n",
              "      <td>20.0</td>\n",
              "      <td>19.0</td>\n",
              "      <td>2.0</td>\n",
              "      <td>an interview on CNN</td>\n",
              "    </tr>\n",
              "    <tr>\n",
              "      <th>4</th>\n",
              "      <td>12465.json</td>\n",
              "      <td>true</td>\n",
              "      <td>The Chicago Bears have had more starting quart...</td>\n",
              "      <td>education</td>\n",
              "      <td>robin-vos</td>\n",
              "      <td>Wisconsin Assembly speaker</td>\n",
              "      <td>Wisconsin</td>\n",
              "      <td>republican</td>\n",
              "      <td>0.0</td>\n",
              "      <td>3.0</td>\n",
              "      <td>2.0</td>\n",
              "      <td>5.0</td>\n",
              "      <td>1.0</td>\n",
              "      <td>a an online opinion-piece</td>\n",
              "    </tr>\n",
              "  </tbody>\n",
              "</table>\n",
              "</div>"
            ],
            "text/plain": [
              "    2635.json        false  ...   0.3                   a mailer\n",
              "0  10540.json    half-true  ...   0.0            a floor speech.\n",
              "1    324.json  mostly-true  ...   9.0                     Denver\n",
              "2   1123.json        false  ...  44.0             a news release\n",
              "3   9028.json    half-true  ...   2.0        an interview on CNN\n",
              "4  12465.json         true  ...   1.0  a an online opinion-piece\n",
              "\n",
              "[5 rows x 14 columns]"
            ]
          },
          "metadata": {
            "tags": []
          },
          "execution_count": 7
        }
      ]
    },
    {
      "cell_type": "code",
      "metadata": {
        "colab": {
          "base_uri": "https://localhost:8080/"
        },
        "id": "a0zCwYhEt4vX",
        "outputId": "af4a836b-979e-434f-993d-512957805001"
      },
      "source": [
        "!cat README"
      ],
      "execution_count": 8,
      "outputs": [
        {
          "output_type": "stream",
          "text": [
            "LIAR: A BENCHMARK DATASET FOR FAKE NEWS DETECTION\n",
            "\n",
            "William Yang Wang, \"Liar, Liar Pants on Fire\": A New Benchmark Dataset for Fake News Detection, to appear in Proceedings of the 55th Annual Meeting of the Association for Computational Linguistics (ACL 2017), short paper, Vancouver, BC, Canada, July 30-August 4, ACL.\n",
            "=====================================================================\n",
            "Description of the TSV format:\n",
            "\n",
            "Column 1: the ID of the statement ([ID].json).\n",
            "Column 2: the label.\n",
            "Column 3: the statement.\n",
            "Column 4: the subject(s).\n",
            "Column 5: the speaker.\n",
            "Column 6: the speaker's job title.\n",
            "Column 7: the state info.\n",
            "Column 8: the party affiliation.\n",
            "Column 9-13: the total credit history count, including the current statement.\n",
            "9: barely true counts.\n",
            "10: false counts.\n",
            "11: half true counts.\n",
            "12: mostly true counts.\n",
            "13: pants on fire counts.\n",
            "Column 14: the context (venue / location of the speech or statement).\n",
            "\n",
            "Note that we do not provide the full-text verdict report in this current version of the dataset,\n",
            "but you can use the following command to access the full verdict report and links to the source documents:\n",
            "wget http://www.politifact.com//api/v/2/statement/[ID]/?format=json\n",
            "\n",
            "======================================================================\n",
            "The original sources retain the copyright of the data.\n",
            "\n",
            "Note that there are absolutely no guarantees with this data,\n",
            "and we provide this dataset \"as is\",\n",
            "but you are welcome to report the issues of the preliminary version\n",
            "of this data.\n",
            "\n",
            "You are allowed to use this dataset for research purposes only.\n",
            "\n",
            "For more question about the dataset, please contact:\n",
            "William Wang, william@cs.ucsb.edu\n",
            "\n",
            "v1.0 04/23/2017\n",
            "\n"
          ],
          "name": "stdout"
        }
      ]
    },
    {
      "cell_type": "code",
      "metadata": {
        "id": "G_PuzjtnuQ4p"
      },
      "source": [
        ""
      ],
      "execution_count": null,
      "outputs": []
    }
  ]
}